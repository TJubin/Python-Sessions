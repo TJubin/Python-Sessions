{
  "nbformat": 4,
  "nbformat_minor": 0,
  "metadata": {
    "colab": {
      "name": "Lists and Tuples.ipynb",
      "provenance": [],
      "collapsed_sections": [],
      "include_colab_link": true
    },
    "kernelspec": {
      "name": "python3",
      "display_name": "Python 3"
    },
    "language_info": {
      "name": "python"
    }
  },
  "cells": [
    {
      "cell_type": "markdown",
      "metadata": {
        "id": "view-in-github",
        "colab_type": "text"
      },
      "source": [
        "<a href=\"https://colab.research.google.com/github/TJubin/Python-Sessions/blob/main/Lists_and_Tuples.ipynb\" target=\"_parent\"><img src=\"https://colab.research.google.com/assets/colab-badge.svg\" alt=\"Open In Colab\"/></a>"
      ]
    },
    {
      "cell_type": "markdown",
      "metadata": {
        "id": "Z-M-RCWATK71"
      },
      "source": [
        "# Lists and tuples\n",
        "\n",
        "Often we need to store a number of single items of data together so that they can be processed together. This might be because all the data refers to one person (e.g. name, age, gender, etc) OR it might be because we have a set of data (e.g. all the items that should be displayed in a drop down list, such as all the years from this year back to 100 years ago so that someone can select their year of birth)\n",
        "\n",
        "Python has a range of data structures available including:\n",
        "*   lists  \n",
        "*   tuples  \n",
        "*   dictionaries  \n",
        "*   sets\n",
        "\n",
        "This worksheet looks at lists and tuples.\n",
        "\n",
        "## List\n",
        "A list is a set of related, individual data objects, that are indexed and can be processed as a whole, as subsets or as individual items.  Lists are stored, essentially, as contiguous items in memory so that access can be as quick as possible.  However, they are mutable (they can be changed after they are created and stored) and so those mechanisms need to include extra functionality to deal with changing list sizes.\n",
        "\n",
        "## Tuple\n",
        "Essentially the same as a list but it is immutable.  Once it has been created it can't be changed.  It is stored in memory as contiguous items, with the size required being fixed right from the start.  This makes it faster to access.\n",
        "\n",
        "The code below will create two lists and a tuple.\n",
        "*   the first list contains 1000 random numbers between 1 and 100\n",
        "*   the second list is of random length (up to 5000) and each item is one of the 9 characteristics that are protected under the Equality Act in the UK.\n",
        "*   the tuple contains the 9 protected characteristics\n",
        "\n",
        "Before you start the exercises, run the code below.  It will generate the lists and tuple so that you can use them in the exercises.  If you need to recreate the lists again (because you have changed them and need to work on the originals, just run this cell again).\n",
        "\n",
        "***Note:***  *a list variable contains a reference to the start of the list in memory, rather than storing the list itself.  This means that if you assign the list to another variable (to make a copy), it will only copy across the reference.  If you change the copy, you change the original list.*\n",
        "\n",
        "*If you need to make a copy of the list you will need to use a loop to create a new list and copy all items across.*"
      ]
    },
    {
      "cell_type": "code",
      "metadata": {
        "id": "BDRckXeQXFMT"
      },
      "source": [
        "from random import randint, choice\n",
        "\n",
        "def get_num_list():\n",
        "  num_list = [randint(1,100) for n in range(1000)]\n",
        "  return num_list\n",
        "\n",
        "def get_protected_characteristics():\n",
        "  characteristics_tuple = ('age','disability','gender reassignment','marriage and civil partnership','pregnancy and maternity','race','religion or belief','sex','sexual orientation')\n",
        "  return characteristics_tuple\n",
        "\n",
        "def get_protected_characteristic_list(protected_characteristics):\n",
        "  char_list = [choice(protected_characteristics) for ch in range(randint(1,5000))]\n",
        "  return char_list\n",
        "\n",
        "nums = get_num_list()\n",
        "protected_characteristics = get_protected_characteristics()\n",
        "characteristics = get_protected_characteristic_list(protected_characteristics)"
      ],
      "execution_count": 4,
      "outputs": []
    },
    {
      "cell_type": "markdown",
      "metadata": {
        "id": "xXT38-4ZV45n"
      },
      "source": [
        "## The exercises below will use the lists:  \n",
        "*   **nums** (a list of between 1 and 1000 random numbers, each number is between 0 and 1000)\n",
        "*   **characteristics** (a list of 5000 random protected_characteristics)\n",
        "\n",
        "and the tuple:\n",
        "*  **protected_characteristics** (a set of the 9 protected characteristics identified in the Equality Act)\n",
        "\n",
        "## You can run the cell above any number of times to generate new lists."
      ]
    },
    {
      "cell_type": "markdown",
      "metadata": {
        "id": "Ft0dXl7fUuaK"
      },
      "source": [
        "---\n",
        "### Exercise 1 - list head, tail and shape\n",
        "\n",
        "Write a function, **describe_list()** which will:\n",
        "*  print the length of the list `nums`\n",
        "*  print the first 10 items in `nums`  \n",
        "*  print the last 5 items in `nums`"
      ]
    },
    {
      "cell_type": "code",
      "metadata": {
        "id": "jUcZD7mmTJdA",
        "outputId": "483386c3-51f5-4865-e34a-b221b0207ad1",
        "colab": {
          "base_uri": "https://localhost:8080/"
        }
      },
      "source": [
        "nums = get_num_list()\n",
        "print(\"length of nums\",len(nums))\n",
        "\n",
        "print(\"head:- \",nums[:10])\n",
        "print(\"tail:- \",nums[-5:])"
      ],
      "execution_count": 5,
      "outputs": [
        {
          "output_type": "stream",
          "name": "stdout",
          "text": [
            "length of nums 1000\n",
            "head:-  [63, 14, 48, 95, 48, 83, 94, 18, 72, 61]\n",
            "tail:-  [67, 56, 73, 44, 6]\n"
          ]
        }
      ]
    },
    {
      "cell_type": "markdown",
      "metadata": {
        "id": "yNWg08k6bXv0"
      },
      "source": [
        "---\n",
        "### Exercise 2 - show tuple items\n",
        "\n",
        "Write a function which will:\n",
        "*   use a loop to print the list of protected characteristics from the `protected_characteristics` tuple.\n"
      ]
    },
    {
      "cell_type": "code",
      "metadata": {
        "id": "P2HnCG9pb1BS",
        "outputId": "73de40d8-7688-4c54-fdd1-2f4371e87cc3",
        "colab": {
          "base_uri": "https://localhost:8080/"
        }
      },
      "source": [
        "def tuple_list(protected_characteristics):\n",
        "  charlist=protected_characteristics\n",
        "  print(charlist)\n",
        "  print(\"protected characteristics are : \")\n",
        "  for i in charlist:\n",
        "    print(i)\n",
        "tuple_list(protected_characteristics)\n"
      ],
      "execution_count": 6,
      "outputs": [
        {
          "output_type": "stream",
          "name": "stdout",
          "text": [
            "('age', 'disability', 'gender reassignment', 'marriage and civil partnership', 'pregnancy and maternity', 'race', 'religion or belief', 'sex', 'sexual orientation')\n",
            "protected characteristics are : \n",
            "age\n",
            "disability\n",
            "gender reassignment\n",
            "marriage and civil partnership\n",
            "pregnancy and maternity\n",
            "race\n",
            "religion or belief\n",
            "sex\n",
            "sexual orientation\n"
          ]
        }
      ]
    },
    {
      "cell_type": "markdown",
      "metadata": {
        "id": "RTSuQZs4b1JU"
      },
      "source": [
        "---\n",
        "### Exercise 3 - list a random subset\n",
        "\n",
        "Write a function which will:\n",
        "*  calculate the position of the middle item in the `characteristics` list   \n",
        "(*Hint: use len() to help with this*)\n",
        "*  calculate the position of the item that is 5 places before the middle item\n",
        "*  calculate the position of the item that is 5 places after the middle item\n",
        "*  print the part of the list that includes the items from 5 places before to 5 places after.  \n",
        "\n",
        "Expected output:  \n",
        "Your list will include 11 items."
      ]
    },
    {
      "cell_type": "code",
      "metadata": {
        "id": "OwhFnH2kdC11",
        "outputId": "8eee8af8-d80e-4664-b492-150ce89c7812",
        "colab": {
          "base_uri": "https://localhost:8080/"
        }
      },
      "source": [
        "def calculate_positions(characteristics):\n",
        "  positions=characteristics\n",
        "  print(len(positions),\"and \", positions)\n",
        "  print(\"middle position is, \", int(len(positions)/2))\n",
        "  print(\"position of the item that is 5 places before the middle item, \", int(len(positions)/2 - 5))\n",
        "  print(\"position of the item that is 5 places after the middle item, \", int(len(positions)/2 + 5))\n",
        "calculate_positions(characteristics)"
      ],
      "execution_count": 7,
      "outputs": [
        {
          "output_type": "stream",
          "name": "stdout",
          "text": [
            "1936 and  ['gender reassignment', 'sexual orientation', 'marriage and civil partnership', 'age', 'sex', 'sexual orientation', 'sexual orientation', 'pregnancy and maternity', 'disability', 'religion or belief', 'gender reassignment', 'age', 'age', 'pregnancy and maternity', 'sexual orientation', 'sexual orientation', 'disability', 'sex', 'sex', 'gender reassignment', 'race', 'age', 'sexual orientation', 'disability', 'race', 'disability', 'sexual orientation', 'sex', 'marriage and civil partnership', 'disability', 'race', 'sex', 'sex', 'gender reassignment', 'sex', 'gender reassignment', 'gender reassignment', 'marriage and civil partnership', 'race', 'gender reassignment', 'race', 'gender reassignment', 'disability', 'pregnancy and maternity', 'sex', 'age', 'sex', 'disability', 'sex', 'religion or belief', 'age', 'pregnancy and maternity', 'pregnancy and maternity', 'race', 'marriage and civil partnership', 'race', 'age', 'religion or belief', 'marriage and civil partnership', 'gender reassignment', 'race', 'race', 'sex', 'disability', 'sex', 'age', 'religion or belief', 'pregnancy and maternity', 'sexual orientation', 'marriage and civil partnership', 'race', 'sex', 'pregnancy and maternity', 'marriage and civil partnership', 'age', 'gender reassignment', 'age', 'disability', 'marriage and civil partnership', 'race', 'disability', 'sexual orientation', 'race', 'religion or belief', 'religion or belief', 'gender reassignment', 'sex', 'age', 'disability', 'pregnancy and maternity', 'sex', 'marriage and civil partnership', 'marriage and civil partnership', 'gender reassignment', 'disability', 'pregnancy and maternity', 'gender reassignment', 'race', 'marriage and civil partnership', 'race', 'pregnancy and maternity', 'marriage and civil partnership', 'race', 'sexual orientation', 'race', 'race', 'disability', 'gender reassignment', 'gender reassignment', 'pregnancy and maternity', 'race', 'race', 'disability', 'age', 'marriage and civil partnership', 'religion or belief', 'age', 'religion or belief', 'religion or belief', 'age', 'race', 'gender reassignment', 'sexual orientation', 'sexual orientation', 'religion or belief', 'race', 'marriage and civil partnership', 'pregnancy and maternity', 'religion or belief', 'age', 'marriage and civil partnership', 'sex', 'gender reassignment', 'gender reassignment', 'disability', 'disability', 'gender reassignment', 'gender reassignment', 'disability', 'pregnancy and maternity', 'pregnancy and maternity', 'pregnancy and maternity', 'sex', 'marriage and civil partnership', 'religion or belief', 'pregnancy and maternity', 'sexual orientation', 'pregnancy and maternity', 'race', 'sex', 'marriage and civil partnership', 'age', 'sex', 'disability', 'race', 'marriage and civil partnership', 'marriage and civil partnership', 'race', 'marriage and civil partnership', 'marriage and civil partnership', 'gender reassignment', 'pregnancy and maternity', 'age', 'disability', 'disability', 'sex', 'gender reassignment', 'race', 'gender reassignment', 'marriage and civil partnership', 'pregnancy and maternity', 'disability', 'gender reassignment', 'religion or belief', 'marriage and civil partnership', 'sexual orientation', 'disability', 'religion or belief', 'disability', 'marriage and civil partnership', 'race', 'pregnancy and maternity', 'sexual orientation', 'marriage and civil partnership', 'age', 'race', 'race', 'religion or belief', 'sex', 'sex', 'pregnancy and maternity', 'gender reassignment', 'sexual orientation', 'marriage and civil partnership', 'sexual orientation', 'pregnancy and maternity', 'disability', 'race', 'gender reassignment', 'sex', 'sex', 'sexual orientation', 'sex', 'pregnancy and maternity', 'age', 'religion or belief', 'gender reassignment', 'sex', 'disability', 'marriage and civil partnership', 'pregnancy and maternity', 'disability', 'gender reassignment', 'gender reassignment', 'sex', 'sexual orientation', 'pregnancy and maternity', 'gender reassignment', 'race', 'sex', 'religion or belief', 'pregnancy and maternity', 'religion or belief', 'sex', 'pregnancy and maternity', 'religion or belief', 'sex', 'race', 'sex', 'marriage and civil partnership', 'age', 'marriage and civil partnership', 'age', 'gender reassignment', 'race', 'disability', 'sex', 'marriage and civil partnership', 'age', 'pregnancy and maternity', 'sexual orientation', 'disability', 'marriage and civil partnership', 'gender reassignment', 'age', 'religion or belief', 'sexual orientation', 'religion or belief', 'age', 'religion or belief', 'age', 'race', 'sexual orientation', 'religion or belief', 'age', 'sex', 'religion or belief', 'religion or belief', 'pregnancy and maternity', 'sexual orientation', 'sex', 'pregnancy and maternity', 'marriage and civil partnership', 'sexual orientation', 'disability', 'age', 'sexual orientation', 'religion or belief', 'disability', 'gender reassignment', 'disability', 'gender reassignment', 'race', 'sexual orientation', 'race', 'age', 'gender reassignment', 'gender reassignment', 'religion or belief', 'disability', 'race', 'religion or belief', 'disability', 'religion or belief', 'sexual orientation', 'race', 'sexual orientation', 'religion or belief', 'gender reassignment', 'marriage and civil partnership', 'sex', 'religion or belief', 'sexual orientation', 'gender reassignment', 'age', 'disability', 'marriage and civil partnership', 'disability', 'marriage and civil partnership', 'pregnancy and maternity', 'gender reassignment', 'sex', 'marriage and civil partnership', 'marriage and civil partnership', 'marriage and civil partnership', 'disability', 'race', 'sex', 'gender reassignment', 'pregnancy and maternity', 'marriage and civil partnership', 'sexual orientation', 'religion or belief', 'marriage and civil partnership', 'race', 'gender reassignment', 'gender reassignment', 'age', 'religion or belief', 'sexual orientation', 'disability', 'pregnancy and maternity', 'disability', 'sex', 'gender reassignment', 'disability', 'pregnancy and maternity', 'marriage and civil partnership', 'gender reassignment', 'age', 'sex', 'race', 'religion or belief', 'gender reassignment', 'religion or belief', 'race', 'gender reassignment', 'pregnancy and maternity', 'disability', 'marriage and civil partnership', 'age', 'sex', 'disability', 'disability', 'sex', 'sexual orientation', 'race', 'religion or belief', 'religion or belief', 'disability', 'pregnancy and maternity', 'sexual orientation', 'age', 'age', 'sex', 'pregnancy and maternity', 'gender reassignment', 'pregnancy and maternity', 'sexual orientation', 'age', 'marriage and civil partnership', 'age', 'age', 'age', 'disability', 'gender reassignment', 'age', 'sex', 'age', 'age', 'religion or belief', 'disability', 'race', 'religion or belief', 'gender reassignment', 'disability', 'sex', 'sexual orientation', 'sex', 'marriage and civil partnership', 'gender reassignment', 'religion or belief', 'race', 'age', 'gender reassignment', 'pregnancy and maternity', 'marriage and civil partnership', 'sexual orientation', 'marriage and civil partnership', 'age', 'sexual orientation', 'age', 'race', 'marriage and civil partnership', 'disability', 'marriage and civil partnership', 'marriage and civil partnership', 'sexual orientation', 'disability', 'marriage and civil partnership', 'marriage and civil partnership', 'pregnancy and maternity', 'sex', 'sexual orientation', 'disability', 'age', 'age', 'disability', 'race', 'sexual orientation', 'sex', 'sex', 'sex', 'pregnancy and maternity', 'gender reassignment', 'age', 'gender reassignment', 'gender reassignment', 'pregnancy and maternity', 'age', 'pregnancy and maternity', 'sex', 'race', 'marriage and civil partnership', 'sex', 'marriage and civil partnership', 'age', 'gender reassignment', 'race', 'gender reassignment', 'sex', 'race', 'pregnancy and maternity', 'sex', 'race', 'sex', 'race', 'age', 'race', 'age', 'religion or belief', 'pregnancy and maternity', 'race', 'disability', 'marriage and civil partnership', 'religion or belief', 'pregnancy and maternity', 'race', 'disability', 'pregnancy and maternity', 'gender reassignment', 'pregnancy and maternity', 'gender reassignment', 'religion or belief', 'disability', 'pregnancy and maternity', 'marriage and civil partnership', 'disability', 'sex', 'age', 'sex', 'religion or belief', 'pregnancy and maternity', 'disability', 'gender reassignment', 'disability', 'gender reassignment', 'sexual orientation', 'religion or belief', 'age', 'gender reassignment', 'gender reassignment', 'sex', 'race', 'age', 'religion or belief', 'race', 'pregnancy and maternity', 'marriage and civil partnership', 'disability', 'pregnancy and maternity', 'gender reassignment', 'marriage and civil partnership', 'race', 'disability', 'disability', 'sex', 'religion or belief', 'sex', 'pregnancy and maternity', 'pregnancy and maternity', 'gender reassignment', 'race', 'disability', 'disability', 'sex', 'marriage and civil partnership', 'religion or belief', 'pregnancy and maternity', 'religion or belief', 'sexual orientation', 'gender reassignment', 'age', 'marriage and civil partnership', 'disability', 'age', 'race', 'marriage and civil partnership', 'sexual orientation', 'marriage and civil partnership', 'marriage and civil partnership', 'marriage and civil partnership', 'race', 'sexual orientation', 'disability', 'marriage and civil partnership', 'disability', 'marriage and civil partnership', 'pregnancy and maternity', 'marriage and civil partnership', 'disability', 'religion or belief', 'age', 'sex', 'religion or belief', 'gender reassignment', 'sexual orientation', 'sex', 'sexual orientation', 'pregnancy and maternity', 'religion or belief', 'age', 'religion or belief', 'sexual orientation', 'age', 'marriage and civil partnership', 'disability', 'disability', 'race', 'race', 'religion or belief', 'sexual orientation', 'pregnancy and maternity', 'sexual orientation', 'sexual orientation', 'marriage and civil partnership', 'sexual orientation', 'pregnancy and maternity', 'sexual orientation', 'disability', 'pregnancy and maternity', 'sex', 'religion or belief', 'sexual orientation', 'sexual orientation', 'sexual orientation', 'marriage and civil partnership', 'marriage and civil partnership', 'gender reassignment', 'age', 'gender reassignment', 'religion or belief', 'sexual orientation', 'pregnancy and maternity', 'marriage and civil partnership', 'sexual orientation', 'age', 'sexual orientation', 'disability', 'race', 'disability', 'sex', 'marriage and civil partnership', 'gender reassignment', 'marriage and civil partnership', 'sexual orientation', 'gender reassignment', 'sex', 'sex', 'age', 'sex', 'gender reassignment', 'age', 'marriage and civil partnership', 'gender reassignment', 'disability', 'pregnancy and maternity', 'pregnancy and maternity', 'pregnancy and maternity', 'marriage and civil partnership', 'age', 'age', 'disability', 'sexual orientation', 'sexual orientation', 'age', 'pregnancy and maternity', 'sex', 'sex', 'race', 'religion or belief', 'marriage and civil partnership', 'disability', 'disability', 'disability', 'race', 'gender reassignment', 'age', 'age', 'age', 'disability', 'religion or belief', 'sexual orientation', 'race', 'disability', 'religion or belief', 'religion or belief', 'race', 'age', 'sexual orientation', 'age', 'sex', 'religion or belief', 'sexual orientation', 'race', 'disability', 'religion or belief', 'race', 'race', 'disability', 'pregnancy and maternity', 'religion or belief', 'race', 'disability', 'marriage and civil partnership', 'age', 'marriage and civil partnership', 'age', 'sexual orientation', 'gender reassignment', 'sex', 'gender reassignment', 'race', 'marriage and civil partnership', 'pregnancy and maternity', 'age', 'pregnancy and maternity', 'race', 'race', 'race', 'disability', 'age', 'sex', 'religion or belief', 'gender reassignment', 'age', 'sexual orientation', 'sex', 'marriage and civil partnership', 'religion or belief', 'marriage and civil partnership', 'sexual orientation', 'gender reassignment', 'gender reassignment', 'gender reassignment', 'religion or belief', 'pregnancy and maternity', 'sex', 'sex', 'disability', 'sex', 'gender reassignment', 'gender reassignment', 'sex', 'age', 'sex', 'gender reassignment', 'disability', 'marriage and civil partnership', 'race', 'religion or belief', 'pregnancy and maternity', 'religion or belief', 'disability', 'gender reassignment', 'disability', 'age', 'gender reassignment', 'sex', 'age', 'sex', 'age', 'religion or belief', 'disability', 'race', 'marriage and civil partnership', 'sex', 'disability', 'age', 'age', 'race', 'gender reassignment', 'age', 'race', 'religion or belief', 'disability', 'marriage and civil partnership', 'sexual orientation', 'age', 'pregnancy and maternity', 'sex', 'marriage and civil partnership', 'disability', 'religion or belief', 'race', 'sex', 'age', 'age', 'disability', 'religion or belief', 'age', 'sex', 'sex', 'sex', 'disability', 'pregnancy and maternity', 'marriage and civil partnership', 'pregnancy and maternity', 'gender reassignment', 'race', 'sexual orientation', 'sexual orientation', 'marriage and civil partnership', 'sexual orientation', 'gender reassignment', 'gender reassignment', 'disability', 'pregnancy and maternity', 'religion or belief', 'marriage and civil partnership', 'disability', 'gender reassignment', 'marriage and civil partnership', 'sexual orientation', 'pregnancy and maternity', 'religion or belief', 'race', 'age', 'age', 'gender reassignment', 'sexual orientation', 'pregnancy and maternity', 'disability', 'sex', 'marriage and civil partnership', 'age', 'sexual orientation', 'sexual orientation', 'religion or belief', 'pregnancy and maternity', 'marriage and civil partnership', 'disability', 'gender reassignment', 'marriage and civil partnership', 'sexual orientation', 'sexual orientation', 'religion or belief', 'religion or belief', 'pregnancy and maternity', 'disability', 'religion or belief', 'gender reassignment', 'pregnancy and maternity', 'pregnancy and maternity', 'disability', 'race', 'race', 'marriage and civil partnership', 'race', 'age', 'pregnancy and maternity', 'marriage and civil partnership', 'age', 'marriage and civil partnership', 'gender reassignment', 'religion or belief', 'pregnancy and maternity', 'pregnancy and maternity', 'sexual orientation', 'sex', 'sex', 'sex', 'marriage and civil partnership', 'sex', 'disability', 'sex', 'sex', 'sexual orientation', 'sexual orientation', 'age', 'race', 'disability', 'race', 'religion or belief', 'religion or belief', 'sex', 'sexual orientation', 'race', 'sex', 'disability', 'sex', 'race', 'gender reassignment', 'marriage and civil partnership', 'marriage and civil partnership', 'age', 'pregnancy and maternity', 'marriage and civil partnership', 'religion or belief', 'marriage and civil partnership', 'religion or belief', 'pregnancy and maternity', 'gender reassignment', 'age', 'pregnancy and maternity', 'race', 'religion or belief', 'marriage and civil partnership', 'age', 'pregnancy and maternity', 'disability', 'age', 'religion or belief', 'pregnancy and maternity', 'pregnancy and maternity', 'marriage and civil partnership', 'disability', 'gender reassignment', 'gender reassignment', 'disability', 'sexual orientation', 'marriage and civil partnership', 'disability', 'marriage and civil partnership', 'religion or belief', 'sex', 'race', 'religion or belief', 'disability', 'sex', 'pregnancy and maternity', 'age', 'religion or belief', 'gender reassignment', 'religion or belief', 'marriage and civil partnership', 'marriage and civil partnership', 'age', 'race', 'sex', 'gender reassignment', 'disability', 'sex', 'disability', 'sexual orientation', 'religion or belief', 'sexual orientation', 'marriage and civil partnership', 'sexual orientation', 'marriage and civil partnership', 'sex', 'sex', 'sexual orientation', 'sexual orientation', 'gender reassignment', 'age', 'religion or belief', 'gender reassignment', 'pregnancy and maternity', 'disability', 'disability', 'gender reassignment', 'sex', 'disability', 'sex', 'marriage and civil partnership', 'marriage and civil partnership', 'religion or belief', 'age', 'pregnancy and maternity', 'sexual orientation', 'pregnancy and maternity', 'marriage and civil partnership', 'disability', 'sex', 'religion or belief', 'gender reassignment', 'marriage and civil partnership', 'disability', 'pregnancy and maternity', 'religion or belief', 'sex', 'pregnancy and maternity', 'disability', 'race', 'gender reassignment', 'religion or belief', 'sexual orientation', 'race', 'pregnancy and maternity', 'sexual orientation', 'age', 'pregnancy and maternity', 'gender reassignment', 'religion or belief', 'disability', 'sexual orientation', 'gender reassignment', 'gender reassignment', 'sexual orientation', 'gender reassignment', 'religion or belief', 'religion or belief', 'gender reassignment', 'religion or belief', 'marriage and civil partnership', 'sex', 'pregnancy and maternity', 'gender reassignment', 'sexual orientation', 'disability', 'marriage and civil partnership', 'gender reassignment', 'age', 'sexual orientation', 'sex', 'marriage and civil partnership', 'gender reassignment', 'religion or belief', 'age', 'sex', 'pregnancy and maternity', 'race', 'gender reassignment', 'sexual orientation', 'sex', 'sex', 'sex', 'sexual orientation', 'religion or belief', 'disability', 'pregnancy and maternity', 'pregnancy and maternity', 'race', 'gender reassignment', 'pregnancy and maternity', 'age', 'sex', 'gender reassignment', 'race', 'gender reassignment', 'sexual orientation', 'age', 'pregnancy and maternity', 'pregnancy and maternity', 'gender reassignment', 'race', 'disability', 'sex', 'sex', 'pregnancy and maternity', 'marriage and civil partnership', 'disability', 'sexual orientation', 'marriage and civil partnership', 'marriage and civil partnership', 'religion or belief', 'race', 'sexual orientation', 'pregnancy and maternity', 'disability', 'sexual orientation', 'disability', 'religion or belief', 'religion or belief', 'marriage and civil partnership', 'disability', 'age', 'disability', 'race', 'disability', 'age', 'sex', 'disability', 'pregnancy and maternity', 'religion or belief', 'age', 'age', 'gender reassignment', 'gender reassignment', 'sexual orientation', 'sex', 'age', 'pregnancy and maternity', 'sexual orientation', 'pregnancy and maternity', 'race', 'age', 'sexual orientation', 'sexual orientation', 'disability', 'religion or belief', 'gender reassignment', 'race', 'sex', 'sex', 'pregnancy and maternity', 'disability', 'sexual orientation', 'religion or belief', 'marriage and civil partnership', 'religion or belief', 'disability', 'race', 'sexual orientation', 'marriage and civil partnership', 'gender reassignment', 'sex', 'sex', 'sex', 'disability', 'age', 'gender reassignment', 'race', 'gender reassignment', 'race', 'age', 'pregnancy and maternity', 'disability', 'disability', 'race', 'sex', 'marriage and civil partnership', 'marriage and civil partnership', 'race', 'sex', 'sex', 'gender reassignment', 'race', 'sexual orientation', 'marriage and civil partnership', 'religion or belief', 'disability', 'disability', 'gender reassignment', 'sex', 'age', 'religion or belief', 'religion or belief', 'age', 'age', 'gender reassignment', 'race', 'gender reassignment', 'religion or belief', 'age', 'sex', 'sex', 'religion or belief', 'religion or belief', 'sex', 'gender reassignment', 'gender reassignment', 'race', 'pregnancy and maternity', 'sex', 'sexual orientation', 'gender reassignment', 'sex', 'race', 'religion or belief', 'age', 'disability', 'race', 'sexual orientation', 'religion or belief', 'sex', 'gender reassignment', 'sexual orientation', 'race', 'sex', 'race', 'disability', 'sexual orientation', 'religion or belief', 'age', 'race', 'sex', 'religion or belief', 'age', 'gender reassignment', 'age', 'marriage and civil partnership', 'race', 'sex', 'religion or belief', 'gender reassignment', 'sexual orientation', 'age', 'race', 'disability', 'religion or belief', 'pregnancy and maternity', 'pregnancy and maternity', 'disability', 'gender reassignment', 'sex', 'race', 'age', 'race', 'sexual orientation', 'sex', 'gender reassignment', 'sexual orientation', 'age', 'sex', 'pregnancy and maternity', 'sex', 'age', 'sexual orientation', 'sexual orientation', 'disability', 'age', 'gender reassignment', 'gender reassignment', 'religion or belief', 'religion or belief', 'religion or belief', 'race', 'pregnancy and maternity', 'sexual orientation', 'race', 'religion or belief', 'disability', 'race', 'disability', 'religion or belief', 'race', 'pregnancy and maternity', 'sexual orientation', 'marriage and civil partnership', 'religion or belief', 'race', 'sexual orientation', 'race', 'disability', 'pregnancy and maternity', 'sex', 'age', 'marriage and civil partnership', 'marriage and civil partnership', 'marriage and civil partnership', 'disability', 'age', 'age', 'sexual orientation', 'disability', 'sexual orientation', 'age', 'gender reassignment', 'sex', 'pregnancy and maternity', 'religion or belief', 'age', 'age', 'religion or belief', 'pregnancy and maternity', 'race', 'sex', 'religion or belief', 'age', 'sexual orientation', 'marriage and civil partnership', 'sex', 'pregnancy and maternity', 'gender reassignment', 'pregnancy and maternity', 'sex', 'marriage and civil partnership', 'gender reassignment', 'pregnancy and maternity', 'age', 'sexual orientation', 'age', 'race', 'sex', 'sex', 'religion or belief', 'gender reassignment', 'sex', 'marriage and civil partnership', 'gender reassignment', 'race', 'race', 'pregnancy and maternity', 'age', 'disability', 'sex', 'pregnancy and maternity', 'age', 'sex', 'sex', 'race', 'religion or belief', 'gender reassignment', 'race', 'race', 'disability', 'gender reassignment', 'religion or belief', 'marriage and civil partnership', 'age', 'sex', 'religion or belief', 'age', 'race', 'sexual orientation', 'sex', 'pregnancy and maternity', 'pregnancy and maternity', 'marriage and civil partnership', 'marriage and civil partnership', 'sex', 'sex', 'religion or belief', 'sexual orientation', 'marriage and civil partnership', 'race', 'gender reassignment', 'race', 'age', 'gender reassignment', 'pregnancy and maternity', 'race', 'disability', 'gender reassignment', 'religion or belief', 'pregnancy and maternity', 'religion or belief', 'pregnancy and maternity', 'race', 'race', 'religion or belief', 'gender reassignment', 'sexual orientation', 'sex', 'marriage and civil partnership', 'religion or belief', 'gender reassignment', 'race', 'age', 'marriage and civil partnership', 'sex', 'disability', 'marriage and civil partnership', 'pregnancy and maternity', 'sex', 'disability', 'religion or belief', 'sex', 'marriage and civil partnership', 'marriage and civil partnership', 'age', 'pregnancy and maternity', 'gender reassignment', 'gender reassignment', 'sexual orientation', 'sex', 'sex', 'race', 'religion or belief', 'religion or belief', 'sex', 'age', 'sex', 'religion or belief', 'pregnancy and maternity', 'age', 'disability', 'pregnancy and maternity', 'religion or belief', 'sex', 'religion or belief', 'marriage and civil partnership', 'pregnancy and maternity', 'pregnancy and maternity', 'religion or belief', 'sex', 'marriage and civil partnership', 'religion or belief', 'sexual orientation', 'gender reassignment', 'religion or belief', 'pregnancy and maternity', 'marriage and civil partnership', 'sex', 'marriage and civil partnership', 'sex', 'pregnancy and maternity', 'sex', 'religion or belief', 'disability', 'disability', 'sexual orientation', 'gender reassignment', 'sex', 'age', 'gender reassignment', 'age', 'marriage and civil partnership', 'marriage and civil partnership', 'age', 'marriage and civil partnership', 'pregnancy and maternity', 'age', 'religion or belief', 'race', 'sex', 'disability', 'race', 'disability', 'religion or belief', 'gender reassignment', 'race', 'religion or belief', 'race', 'gender reassignment', 'marriage and civil partnership', 'marriage and civil partnership', 'age', 'race', 'age', 'gender reassignment', 'disability', 'gender reassignment', 'pregnancy and maternity', 'gender reassignment', 'race', 'marriage and civil partnership', 'religion or belief', 'pregnancy and maternity', 'gender reassignment', 'marriage and civil partnership', 'disability', 'age', 'age', 'race', 'sex', 'gender reassignment', 'disability', 'pregnancy and maternity', 'age', 'gender reassignment', 'sexual orientation', 'pregnancy and maternity', 'race', 'religion or belief', 'race', 'gender reassignment', 'disability', 'pregnancy and maternity', 'religion or belief', 'age', 'sexual orientation', 'race', 'age', 'sex', 'pregnancy and maternity', 'sexual orientation', 'pregnancy and maternity', 'religion or belief', 'race', 'pregnancy and maternity', 'race', 'age', 'pregnancy and maternity', 'race', 'gender reassignment', 'race', 'gender reassignment', 'pregnancy and maternity', 'religion or belief', 'age', 'disability', 'religion or belief', 'pregnancy and maternity', 'marriage and civil partnership', 'marriage and civil partnership', 'pregnancy and maternity', 'race', 'disability', 'marriage and civil partnership', 'pregnancy and maternity', 'age', 'pregnancy and maternity', 'religion or belief', 'sexual orientation', 'religion or belief', 'race', 'race', 'religion or belief', 'sex', 'religion or belief', 'race', 'disability', 'age', 'pregnancy and maternity', 'disability', 'gender reassignment', 'sex', 'marriage and civil partnership', 'gender reassignment', 'race', 'sex', 'gender reassignment', 'race', 'religion or belief', 'marriage and civil partnership', 'marriage and civil partnership', 'religion or belief', 'gender reassignment', 'sexual orientation', 'pregnancy and maternity', 'religion or belief', 'age', 'religion or belief', 'gender reassignment', 'disability', 'sexual orientation', 'marriage and civil partnership', 'race', 'race', 'race', 'age', 'disability', 'marriage and civil partnership', 'age', 'pregnancy and maternity', 'marriage and civil partnership', 'gender reassignment', 'sex', 'disability', 'sexual orientation', 'age', 'disability', 'age', 'gender reassignment', 'sexual orientation', 'disability', 'pregnancy and maternity', 'sex', 'marriage and civil partnership', 'sex', 'marriage and civil partnership', 'religion or belief', 'age', 'pregnancy and maternity', 'sex', 'religion or belief', 'race', 'age', 'pregnancy and maternity', 'gender reassignment', 'sexual orientation', 'religion or belief', 'race', 'pregnancy and maternity', 'sex', 'religion or belief', 'sex', 'disability', 'disability', 'disability', 'gender reassignment', 'pregnancy and maternity', 'religion or belief', 'disability', 'marriage and civil partnership', 'sexual orientation', 'religion or belief', 'pregnancy and maternity', 'race', 'pregnancy and maternity', 'race', 'gender reassignment', 'pregnancy and maternity', 'race', 'religion or belief', 'pregnancy and maternity', 'marriage and civil partnership', 'race', 'sex', 'race', 'age', 'race', 'pregnancy and maternity', 'gender reassignment', 'marriage and civil partnership', 'sex', 'religion or belief', 'pregnancy and maternity', 'race', 'pregnancy and maternity', 'age', 'pregnancy and maternity', 'marriage and civil partnership', 'disability', 'disability', 'race', 'age', 'race', 'religion or belief', 'sex', 'sex', 'disability', 'disability', 'sexual orientation', 'marriage and civil partnership', 'pregnancy and maternity', 'gender reassignment', 'religion or belief', 'age', 'gender reassignment', 'race', 'marriage and civil partnership', 'marriage and civil partnership', 'pregnancy and maternity', 'sex', 'marriage and civil partnership', 'pregnancy and maternity', 'race', 'race', 'age', 'pregnancy and maternity', 'sexual orientation', 'pregnancy and maternity', 'pregnancy and maternity', 'pregnancy and maternity', 'marriage and civil partnership', 'disability', 'sex', 'marriage and civil partnership', 'gender reassignment', 'sexual orientation', 'disability', 'disability', 'age', 'sexual orientation', 'pregnancy and maternity', 'marriage and civil partnership', 'marriage and civil partnership', 'marriage and civil partnership', 'gender reassignment', 'marriage and civil partnership', 'age', 'religion or belief', 'pregnancy and maternity', 'religion or belief', 'age', 'sex', 'gender reassignment', 'race', 'disability', 'sexual orientation', 'sex', 'marriage and civil partnership', 'religion or belief', 'race', 'gender reassignment', 'sex', 'race', 'pregnancy and maternity', 'race', 'marriage and civil partnership', 'religion or belief', 'marriage and civil partnership', 'gender reassignment', 'pregnancy and maternity', 'disability', 'gender reassignment', 'marriage and civil partnership', 'age', 'religion or belief', 'sex', 'disability', 'religion or belief', 'religion or belief', 'sex', 'marriage and civil partnership', 'pregnancy and maternity', 'race', 'religion or belief', 'marriage and civil partnership', 'disability', 'sexual orientation', 'marriage and civil partnership', 'sex', 'age', 'religion or belief', 'disability', 'race', 'disability', 'marriage and civil partnership', 'disability', 'sexual orientation', 'religion or belief', 'sexual orientation', 'sexual orientation', 'gender reassignment', 'marriage and civil partnership', 'sexual orientation', 'pregnancy and maternity', 'age', 'pregnancy and maternity', 'pregnancy and maternity', 'age', 'race', 'sexual orientation', 'pregnancy and maternity', 'race', 'marriage and civil partnership', 'pregnancy and maternity', 'race', 'race', 'sexual orientation', 'marriage and civil partnership', 'disability', 'gender reassignment', 'sexual orientation', 'marriage and civil partnership', 'sexual orientation', 'sexual orientation', 'gender reassignment', 'age', 'marriage and civil partnership', 'gender reassignment', 'marriage and civil partnership', 'sexual orientation', 'pregnancy and maternity', 'sex', 'religion or belief', 'disability', 'race', 'disability', 'sex', 'gender reassignment', 'sexual orientation', 'religion or belief', 'age', 'pregnancy and maternity', 'gender reassignment', 'sex', 'marriage and civil partnership', 'sexual orientation', 'religion or belief', 'sexual orientation', 'pregnancy and maternity', 'marriage and civil partnership', 'age', 'race', 'sexual orientation', 'sexual orientation', 'marriage and civil partnership', 'age', 'sexual orientation', 'sex', 'marriage and civil partnership', 'race', 'sex', 'pregnancy and maternity', 'marriage and civil partnership', 'pregnancy and maternity', 'gender reassignment', 'sexual orientation', 'gender reassignment', 'gender reassignment', 'pregnancy and maternity', 'race', 'sex', 'pregnancy and maternity', 'disability', 'sexual orientation', 'gender reassignment', 'disability', 'race', 'gender reassignment', 'gender reassignment', 'marriage and civil partnership', 'pregnancy and maternity', 'marriage and civil partnership', 'age', 'sexual orientation', 'religion or belief', 'disability', 'race', 'race', 'age', 'age', 'sexual orientation', 'marriage and civil partnership', 'religion or belief', 'disability', 'disability', 'gender reassignment', 'sex', 'disability', 'disability', 'race', 'gender reassignment', 'disability', 'sexual orientation', 'sexual orientation', 'religion or belief', 'disability', 'sexual orientation', 'sex', 'sex', 'sexual orientation', 'sexual orientation', 'sexual orientation', 'age', 'gender reassignment', 'sexual orientation', 'sexual orientation', 'race', 'marriage and civil partnership', 'age', 'age', 'race', 'age', 'disability', 'disability', 'sexual orientation', 'sex', 'religion or belief', 'age', 'religion or belief', 'marriage and civil partnership', 'race', 'pregnancy and maternity', 'marriage and civil partnership', 'disability', 'marriage and civil partnership', 'pregnancy and maternity', 'sex', 'marriage and civil partnership', 'disability', 'age', 'marriage and civil partnership', 'gender reassignment', 'religion or belief', 'race', 'sexual orientation', 'religion or belief', 'religion or belief', 'age', 'pregnancy and maternity', 'age', 'pregnancy and maternity', 'pregnancy and maternity', 'sexual orientation', 'age', 'gender reassignment', 'sexual orientation', 'race', 'pregnancy and maternity', 'pregnancy and maternity', 'gender reassignment', 'race', 'religion or belief', 'race', 'gender reassignment', 'age', 'sexual orientation', 'marriage and civil partnership', 'sexual orientation', 'age', 'disability', 'gender reassignment', 'gender reassignment', 'gender reassignment', 'disability', 'race', 'pregnancy and maternity', 'pregnancy and maternity', 'disability', 'disability', 'sexual orientation', 'religion or belief', 'age', 'pregnancy and maternity', 'pregnancy and maternity', 'race', 'religion or belief', 'disability', 'religion or belief', 'disability', 'religion or belief', 'sex', 'age', 'gender reassignment', 'disability', 'sex', 'gender reassignment', 'race', 'religion or belief', 'sex', 'sexual orientation', 'religion or belief', 'marriage and civil partnership', 'religion or belief', 'marriage and civil partnership', 'sex', 'gender reassignment', 'age', 'marriage and civil partnership', 'age', 'age', 'race', 'sexual orientation', 'sex', 'pregnancy and maternity', 'gender reassignment', 'race', 'disability', 'race', 'pregnancy and maternity', 'age', 'race', 'age', 'gender reassignment', 'age', 'sexual orientation', 'pregnancy and maternity', 'marriage and civil partnership', 'marriage and civil partnership', 'pregnancy and maternity', 'race', 'marriage and civil partnership', 'sex', 'religion or belief', 'religion or belief', 'race', 'age', 'sexual orientation', 'disability', 'sex', 'sex', 'sexual orientation', 'religion or belief', 'marriage and civil partnership', 'disability', 'race', 'marriage and civil partnership', 'sexual orientation', 'sexual orientation', 'sexual orientation', 'sexual orientation', 'age', 'religion or belief', 'religion or belief', 'disability', 'sexual orientation', 'marriage and civil partnership', 'marriage and civil partnership', 'religion or belief', 'gender reassignment', 'religion or belief', 'religion or belief', 'race', 'age', 'marriage and civil partnership', 'gender reassignment', 'marriage and civil partnership', 'race', 'marriage and civil partnership', 'age', 'gender reassignment', 'race', 'disability', 'sexual orientation', 'age', 'sex', 'religion or belief', 'race', 'religion or belief', 'sex', 'sex', 'race', 'age', 'marriage and civil partnership', 'disability', 'marriage and civil partnership', 'sex', 'disability', 'age', 'marriage and civil partnership', 'marriage and civil partnership', 'disability', 'religion or belief', 'gender reassignment', 'sex', 'race', 'disability', 'marriage and civil partnership', 'sex', 'marriage and civil partnership', 'disability', 'sexual orientation', 'race', 'religion or belief', 'religion or belief', 'marriage and civil partnership', 'gender reassignment', 'race', 'age', 'religion or belief', 'age', 'pregnancy and maternity', 'disability', 'gender reassignment', 'pregnancy and maternity', 'sexual orientation', 'marriage and civil partnership', 'gender reassignment', 'marriage and civil partnership']\n",
            "middle position is,  968\n",
            "position of the item that is 5 places before the middle item,  963\n",
            "position of the item that is 5 places after the middle item,  973\n"
          ]
        }
      ]
    },
    {
      "cell_type": "markdown",
      "metadata": {
        "id": "KS0x3oFNePI9"
      },
      "source": [
        "---\n",
        "### Exercise 4 - create a copy\n",
        "\n",
        "Write a function which will: use a for loop to create a copy of the `nums` list:\n",
        "\n",
        "*   create a new, empty, list called **new_nums**  (*Hint: an empty list is [ ]*)\n",
        "*   use a for loop which uses the following syntax:  `for num in nums:`\n",
        "*   each time round the loop append `num` to `new_nums`  ( *`new_nums.append(num)`*)\n",
        "*   print the first 10 items of `new_nums`\n",
        "*   print the first 10 items of `nums`\n",
        "*   print the length of both lists"
      ]
    },
    {
      "cell_type": "code",
      "metadata": {
        "id": "mpK1Ip3we-uC",
        "outputId": "a30be8b6-a1ac-472e-b518-73c75c3001f3",
        "colab": {
          "base_uri": "https://localhost:8080/"
        }
      },
      "source": [
        "def copy_list(nums):\n",
        "  list1=[]\n",
        "  nums=nums\n",
        "  print(nums)\n",
        "  for i in nums:\n",
        "    list1.append(i)\n",
        "  print(list1)\n",
        "  print(\"first 10 items of new list: \",list1[:10])\n",
        "  print(\"first 10 items of old list: \",nums[:10])\n",
        "  if list1==nums:\n",
        "     print(\"matching\")\n",
        "  else:print(\"not matching\")\n",
        "\n",
        "  print(\"length of new list: \",len(list1))\n",
        "  print(\"length of old list: \",len(nums))\n",
        "copy_list(nums)"
      ],
      "execution_count": 8,
      "outputs": [
        {
          "output_type": "stream",
          "name": "stdout",
          "text": [
            "[63, 14, 48, 95, 48, 83, 94, 18, 72, 61, 27, 72, 4, 56, 51, 64, 22, 67, 90, 18, 59, 95, 17, 87, 49, 54, 48, 1, 15, 37, 34, 58, 64, 76, 45, 88, 53, 82, 2, 6, 15, 10, 10, 33, 42, 88, 23, 38, 62, 3, 15, 100, 43, 48, 13, 30, 66, 92, 79, 50, 86, 12, 41, 51, 72, 15, 73, 54, 50, 15, 66, 53, 99, 75, 65, 72, 31, 55, 34, 99, 7, 36, 45, 8, 40, 85, 80, 3, 58, 95, 33, 56, 19, 97, 64, 60, 4, 77, 56, 21, 40, 19, 82, 22, 30, 7, 97, 96, 69, 70, 13, 72, 75, 91, 32, 50, 98, 24, 92, 52, 40, 69, 9, 43, 97, 78, 60, 82, 52, 29, 16, 16, 100, 53, 45, 7, 38, 62, 83, 59, 33, 24, 4, 9, 53, 76, 68, 98, 51, 15, 69, 84, 67, 83, 71, 52, 96, 81, 55, 39, 13, 22, 46, 64, 26, 39, 19, 95, 27, 29, 45, 56, 23, 84, 6, 26, 39, 89, 43, 49, 44, 56, 68, 21, 18, 11, 16, 92, 100, 40, 92, 35, 12, 87, 73, 43, 48, 91, 2, 91, 25, 4, 48, 69, 11, 49, 40, 44, 3, 39, 24, 3, 77, 68, 57, 28, 12, 40, 91, 51, 29, 1, 73, 29, 90, 74, 54, 39, 67, 42, 78, 75, 73, 86, 55, 30, 96, 7, 27, 30, 62, 35, 12, 87, 77, 63, 66, 4, 28, 19, 43, 81, 56, 30, 68, 82, 84, 49, 80, 6, 2, 74, 44, 82, 63, 44, 24, 17, 27, 87, 69, 46, 31, 53, 86, 76, 84, 81, 48, 63, 44, 99, 32, 12, 67, 49, 10, 18, 31, 58, 79, 43, 6, 51, 19, 99, 90, 38, 91, 66, 80, 58, 70, 18, 24, 65, 32, 73, 14, 23, 13, 35, 44, 53, 25, 82, 94, 49, 65, 83, 31, 90, 10, 15, 84, 66, 51, 30, 100, 17, 70, 50, 23, 37, 69, 73, 2, 84, 18, 73, 79, 80, 5, 48, 94, 20, 1, 63, 30, 4, 98, 72, 13, 89, 62, 45, 2, 16, 47, 56, 39, 45, 31, 57, 90, 8, 47, 99, 25, 13, 64, 57, 66, 85, 15, 5, 96, 56, 34, 76, 74, 36, 3, 7, 41, 89, 47, 20, 30, 51, 41, 32, 19, 54, 66, 22, 68, 15, 77, 81, 71, 48, 40, 12, 57, 21, 19, 14, 37, 18, 43, 51, 36, 51, 8, 43, 27, 33, 89, 93, 31, 53, 87, 28, 65, 2, 74, 81, 30, 30, 55, 4, 57, 37, 51, 32, 29, 31, 21, 45, 66, 43, 44, 72, 41, 97, 50, 72, 59, 67, 9, 60, 50, 10, 70, 98, 89, 13, 92, 50, 32, 95, 40, 68, 29, 32, 80, 75, 96, 12, 31, 17, 69, 36, 74, 85, 78, 29, 16, 80, 4, 9, 4, 35, 54, 71, 29, 64, 72, 69, 41, 80, 84, 14, 71, 70, 57, 44, 75, 15, 82, 45, 70, 46, 55, 42, 33, 73, 66, 63, 24, 40, 92, 58, 98, 33, 45, 21, 80, 33, 2, 72, 47, 79, 40, 24, 56, 73, 70, 4, 97, 89, 20, 66, 5, 32, 22, 17, 66, 64, 98, 3, 14, 99, 46, 80, 62, 42, 73, 38, 30, 98, 30, 96, 17, 90, 78, 64, 6, 84, 28, 31, 62, 33, 90, 19, 34, 66, 38, 72, 54, 88, 67, 52, 80, 99, 51, 51, 85, 10, 85, 15, 58, 54, 97, 24, 39, 86, 76, 53, 37, 43, 61, 90, 31, 76, 33, 64, 51, 9, 100, 41, 99, 89, 73, 84, 85, 94, 60, 16, 67, 49, 80, 50, 12, 49, 78, 43, 51, 13, 60, 3, 4, 21, 13, 35, 21, 44, 26, 67, 59, 35, 77, 100, 53, 59, 100, 65, 29, 45, 34, 93, 62, 34, 47, 7, 20, 51, 45, 50, 35, 58, 66, 73, 42, 83, 73, 66, 75, 42, 4, 87, 49, 8, 34, 24, 47, 70, 60, 5, 63, 58, 17, 55, 100, 88, 61, 6, 46, 29, 54, 51, 63, 44, 24, 66, 10, 2, 57, 42, 78, 82, 52, 90, 6, 83, 66, 43, 96, 94, 58, 23, 87, 25, 42, 83, 66, 18, 52, 2, 17, 9, 33, 79, 47, 61, 52, 16, 63, 6, 69, 34, 29, 57, 6, 50, 71, 25, 61, 14, 92, 25, 91, 35, 67, 42, 84, 55, 35, 11, 59, 31, 91, 93, 23, 82, 80, 88, 28, 45, 48, 71, 40, 80, 8, 40, 45, 42, 21, 73, 62, 71, 70, 67, 72, 16, 8, 17, 78, 54, 63, 41, 58, 35, 25, 18, 21, 97, 84, 70, 65, 53, 22, 45, 36, 96, 97, 16, 47, 28, 50, 35, 96, 100, 26, 50, 91, 15, 23, 84, 34, 61, 46, 61, 17, 46, 84, 63, 21, 25, 88, 42, 98, 28, 90, 22, 3, 52, 56, 16, 99, 41, 8, 98, 27, 70, 83, 77, 39, 14, 86, 47, 34, 56, 44, 16, 96, 29, 83, 56, 62, 63, 24, 87, 45, 8, 6, 5, 46, 70, 8, 36, 31, 81, 74, 75, 45, 31, 82, 69, 61, 33, 82, 20, 8, 89, 48, 98, 73, 1, 99, 12, 52, 72, 48, 60, 47, 9, 61, 86, 42, 13, 100, 89, 16, 92, 67, 69, 60, 39, 61, 31, 59, 100, 11, 16, 53, 12, 32, 41, 57, 6, 92, 58, 37, 40, 64, 53, 83, 20, 53, 74, 65, 91, 1, 92, 89, 76, 81, 8, 45, 19, 65, 64, 67, 11, 24, 48, 82, 6, 30, 23, 50, 97, 80, 97, 3, 14, 69, 1, 28, 92, 22, 69, 70, 28, 59, 87, 26, 45, 83, 53, 79, 25, 85, 55, 92, 70, 59, 65, 15, 51, 47, 62, 18, 55, 38, 46, 37, 6, 67, 82, 36, 14, 44, 51, 14, 25, 94, 41, 70, 33, 80, 2, 72, 75, 18, 88, 26, 39, 24, 62, 33, 54, 92, 67, 56, 73, 44, 6]\n",
            "[63, 14, 48, 95, 48, 83, 94, 18, 72, 61, 27, 72, 4, 56, 51, 64, 22, 67, 90, 18, 59, 95, 17, 87, 49, 54, 48, 1, 15, 37, 34, 58, 64, 76, 45, 88, 53, 82, 2, 6, 15, 10, 10, 33, 42, 88, 23, 38, 62, 3, 15, 100, 43, 48, 13, 30, 66, 92, 79, 50, 86, 12, 41, 51, 72, 15, 73, 54, 50, 15, 66, 53, 99, 75, 65, 72, 31, 55, 34, 99, 7, 36, 45, 8, 40, 85, 80, 3, 58, 95, 33, 56, 19, 97, 64, 60, 4, 77, 56, 21, 40, 19, 82, 22, 30, 7, 97, 96, 69, 70, 13, 72, 75, 91, 32, 50, 98, 24, 92, 52, 40, 69, 9, 43, 97, 78, 60, 82, 52, 29, 16, 16, 100, 53, 45, 7, 38, 62, 83, 59, 33, 24, 4, 9, 53, 76, 68, 98, 51, 15, 69, 84, 67, 83, 71, 52, 96, 81, 55, 39, 13, 22, 46, 64, 26, 39, 19, 95, 27, 29, 45, 56, 23, 84, 6, 26, 39, 89, 43, 49, 44, 56, 68, 21, 18, 11, 16, 92, 100, 40, 92, 35, 12, 87, 73, 43, 48, 91, 2, 91, 25, 4, 48, 69, 11, 49, 40, 44, 3, 39, 24, 3, 77, 68, 57, 28, 12, 40, 91, 51, 29, 1, 73, 29, 90, 74, 54, 39, 67, 42, 78, 75, 73, 86, 55, 30, 96, 7, 27, 30, 62, 35, 12, 87, 77, 63, 66, 4, 28, 19, 43, 81, 56, 30, 68, 82, 84, 49, 80, 6, 2, 74, 44, 82, 63, 44, 24, 17, 27, 87, 69, 46, 31, 53, 86, 76, 84, 81, 48, 63, 44, 99, 32, 12, 67, 49, 10, 18, 31, 58, 79, 43, 6, 51, 19, 99, 90, 38, 91, 66, 80, 58, 70, 18, 24, 65, 32, 73, 14, 23, 13, 35, 44, 53, 25, 82, 94, 49, 65, 83, 31, 90, 10, 15, 84, 66, 51, 30, 100, 17, 70, 50, 23, 37, 69, 73, 2, 84, 18, 73, 79, 80, 5, 48, 94, 20, 1, 63, 30, 4, 98, 72, 13, 89, 62, 45, 2, 16, 47, 56, 39, 45, 31, 57, 90, 8, 47, 99, 25, 13, 64, 57, 66, 85, 15, 5, 96, 56, 34, 76, 74, 36, 3, 7, 41, 89, 47, 20, 30, 51, 41, 32, 19, 54, 66, 22, 68, 15, 77, 81, 71, 48, 40, 12, 57, 21, 19, 14, 37, 18, 43, 51, 36, 51, 8, 43, 27, 33, 89, 93, 31, 53, 87, 28, 65, 2, 74, 81, 30, 30, 55, 4, 57, 37, 51, 32, 29, 31, 21, 45, 66, 43, 44, 72, 41, 97, 50, 72, 59, 67, 9, 60, 50, 10, 70, 98, 89, 13, 92, 50, 32, 95, 40, 68, 29, 32, 80, 75, 96, 12, 31, 17, 69, 36, 74, 85, 78, 29, 16, 80, 4, 9, 4, 35, 54, 71, 29, 64, 72, 69, 41, 80, 84, 14, 71, 70, 57, 44, 75, 15, 82, 45, 70, 46, 55, 42, 33, 73, 66, 63, 24, 40, 92, 58, 98, 33, 45, 21, 80, 33, 2, 72, 47, 79, 40, 24, 56, 73, 70, 4, 97, 89, 20, 66, 5, 32, 22, 17, 66, 64, 98, 3, 14, 99, 46, 80, 62, 42, 73, 38, 30, 98, 30, 96, 17, 90, 78, 64, 6, 84, 28, 31, 62, 33, 90, 19, 34, 66, 38, 72, 54, 88, 67, 52, 80, 99, 51, 51, 85, 10, 85, 15, 58, 54, 97, 24, 39, 86, 76, 53, 37, 43, 61, 90, 31, 76, 33, 64, 51, 9, 100, 41, 99, 89, 73, 84, 85, 94, 60, 16, 67, 49, 80, 50, 12, 49, 78, 43, 51, 13, 60, 3, 4, 21, 13, 35, 21, 44, 26, 67, 59, 35, 77, 100, 53, 59, 100, 65, 29, 45, 34, 93, 62, 34, 47, 7, 20, 51, 45, 50, 35, 58, 66, 73, 42, 83, 73, 66, 75, 42, 4, 87, 49, 8, 34, 24, 47, 70, 60, 5, 63, 58, 17, 55, 100, 88, 61, 6, 46, 29, 54, 51, 63, 44, 24, 66, 10, 2, 57, 42, 78, 82, 52, 90, 6, 83, 66, 43, 96, 94, 58, 23, 87, 25, 42, 83, 66, 18, 52, 2, 17, 9, 33, 79, 47, 61, 52, 16, 63, 6, 69, 34, 29, 57, 6, 50, 71, 25, 61, 14, 92, 25, 91, 35, 67, 42, 84, 55, 35, 11, 59, 31, 91, 93, 23, 82, 80, 88, 28, 45, 48, 71, 40, 80, 8, 40, 45, 42, 21, 73, 62, 71, 70, 67, 72, 16, 8, 17, 78, 54, 63, 41, 58, 35, 25, 18, 21, 97, 84, 70, 65, 53, 22, 45, 36, 96, 97, 16, 47, 28, 50, 35, 96, 100, 26, 50, 91, 15, 23, 84, 34, 61, 46, 61, 17, 46, 84, 63, 21, 25, 88, 42, 98, 28, 90, 22, 3, 52, 56, 16, 99, 41, 8, 98, 27, 70, 83, 77, 39, 14, 86, 47, 34, 56, 44, 16, 96, 29, 83, 56, 62, 63, 24, 87, 45, 8, 6, 5, 46, 70, 8, 36, 31, 81, 74, 75, 45, 31, 82, 69, 61, 33, 82, 20, 8, 89, 48, 98, 73, 1, 99, 12, 52, 72, 48, 60, 47, 9, 61, 86, 42, 13, 100, 89, 16, 92, 67, 69, 60, 39, 61, 31, 59, 100, 11, 16, 53, 12, 32, 41, 57, 6, 92, 58, 37, 40, 64, 53, 83, 20, 53, 74, 65, 91, 1, 92, 89, 76, 81, 8, 45, 19, 65, 64, 67, 11, 24, 48, 82, 6, 30, 23, 50, 97, 80, 97, 3, 14, 69, 1, 28, 92, 22, 69, 70, 28, 59, 87, 26, 45, 83, 53, 79, 25, 85, 55, 92, 70, 59, 65, 15, 51, 47, 62, 18, 55, 38, 46, 37, 6, 67, 82, 36, 14, 44, 51, 14, 25, 94, 41, 70, 33, 80, 2, 72, 75, 18, 88, 26, 39, 24, 62, 33, 54, 92, 67, 56, 73, 44, 6]\n",
            "first 10 items of new list:  [63, 14, 48, 95, 48, 83, 94, 18, 72, 61]\n",
            "first 10 items of old list:  [63, 14, 48, 95, 48, 83, 94, 18, 72, 61]\n",
            "matching\n",
            "length of new list:  1000\n",
            "length of old list:  1000\n"
          ]
        }
      ]
    },
    {
      "cell_type": "markdown",
      "metadata": {
        "id": "deUIFWjRe-3G"
      },
      "source": [
        "\n",
        "\n",
        "```\n",
        "# This is formatted as code\n",
        "```\n",
        "\n",
        "---\n",
        "### Exercise 5 - count the occurrence of age in characteristics\n",
        "\n",
        "Write a function which will use the list method:\n",
        "\n",
        "`num_items = list_name.count(item)`\n",
        "\n",
        "to count the number of occurrences of 'age' in the `characteristics` list.  Print the result."
      ]
    },
    {
      "cell_type": "code",
      "metadata": {
        "id": "b9TrHQ9hfoIU",
        "outputId": "d1a6ce51-b5b9-4d75-f661-0f4ef9a997cc",
        "colab": {
          "base_uri": "https://localhost:8080/"
        }
      },
      "source": [
        "def count_occurances(characteristics):\n",
        "  characteristics=characteristics\n",
        "  print(characteristics)\n",
        "  num_items = characteristics.count(\"age\")\n",
        "  print(\"number of occurrences of 'age' in the characteristics: \",num_items)\n",
        "count_occurances(characteristics)"
      ],
      "execution_count": 9,
      "outputs": [
        {
          "output_type": "stream",
          "name": "stdout",
          "text": [
            "['gender reassignment', 'sexual orientation', 'marriage and civil partnership', 'age', 'sex', 'sexual orientation', 'sexual orientation', 'pregnancy and maternity', 'disability', 'religion or belief', 'gender reassignment', 'age', 'age', 'pregnancy and maternity', 'sexual orientation', 'sexual orientation', 'disability', 'sex', 'sex', 'gender reassignment', 'race', 'age', 'sexual orientation', 'disability', 'race', 'disability', 'sexual orientation', 'sex', 'marriage and civil partnership', 'disability', 'race', 'sex', 'sex', 'gender reassignment', 'sex', 'gender reassignment', 'gender reassignment', 'marriage and civil partnership', 'race', 'gender reassignment', 'race', 'gender reassignment', 'disability', 'pregnancy and maternity', 'sex', 'age', 'sex', 'disability', 'sex', 'religion or belief', 'age', 'pregnancy and maternity', 'pregnancy and maternity', 'race', 'marriage and civil partnership', 'race', 'age', 'religion or belief', 'marriage and civil partnership', 'gender reassignment', 'race', 'race', 'sex', 'disability', 'sex', 'age', 'religion or belief', 'pregnancy and maternity', 'sexual orientation', 'marriage and civil partnership', 'race', 'sex', 'pregnancy and maternity', 'marriage and civil partnership', 'age', 'gender reassignment', 'age', 'disability', 'marriage and civil partnership', 'race', 'disability', 'sexual orientation', 'race', 'religion or belief', 'religion or belief', 'gender reassignment', 'sex', 'age', 'disability', 'pregnancy and maternity', 'sex', 'marriage and civil partnership', 'marriage and civil partnership', 'gender reassignment', 'disability', 'pregnancy and maternity', 'gender reassignment', 'race', 'marriage and civil partnership', 'race', 'pregnancy and maternity', 'marriage and civil partnership', 'race', 'sexual orientation', 'race', 'race', 'disability', 'gender reassignment', 'gender reassignment', 'pregnancy and maternity', 'race', 'race', 'disability', 'age', 'marriage and civil partnership', 'religion or belief', 'age', 'religion or belief', 'religion or belief', 'age', 'race', 'gender reassignment', 'sexual orientation', 'sexual orientation', 'religion or belief', 'race', 'marriage and civil partnership', 'pregnancy and maternity', 'religion or belief', 'age', 'marriage and civil partnership', 'sex', 'gender reassignment', 'gender reassignment', 'disability', 'disability', 'gender reassignment', 'gender reassignment', 'disability', 'pregnancy and maternity', 'pregnancy and maternity', 'pregnancy and maternity', 'sex', 'marriage and civil partnership', 'religion or belief', 'pregnancy and maternity', 'sexual orientation', 'pregnancy and maternity', 'race', 'sex', 'marriage and civil partnership', 'age', 'sex', 'disability', 'race', 'marriage and civil partnership', 'marriage and civil partnership', 'race', 'marriage and civil partnership', 'marriage and civil partnership', 'gender reassignment', 'pregnancy and maternity', 'age', 'disability', 'disability', 'sex', 'gender reassignment', 'race', 'gender reassignment', 'marriage and civil partnership', 'pregnancy and maternity', 'disability', 'gender reassignment', 'religion or belief', 'marriage and civil partnership', 'sexual orientation', 'disability', 'religion or belief', 'disability', 'marriage and civil partnership', 'race', 'pregnancy and maternity', 'sexual orientation', 'marriage and civil partnership', 'age', 'race', 'race', 'religion or belief', 'sex', 'sex', 'pregnancy and maternity', 'gender reassignment', 'sexual orientation', 'marriage and civil partnership', 'sexual orientation', 'pregnancy and maternity', 'disability', 'race', 'gender reassignment', 'sex', 'sex', 'sexual orientation', 'sex', 'pregnancy and maternity', 'age', 'religion or belief', 'gender reassignment', 'sex', 'disability', 'marriage and civil partnership', 'pregnancy and maternity', 'disability', 'gender reassignment', 'gender reassignment', 'sex', 'sexual orientation', 'pregnancy and maternity', 'gender reassignment', 'race', 'sex', 'religion or belief', 'pregnancy and maternity', 'religion or belief', 'sex', 'pregnancy and maternity', 'religion or belief', 'sex', 'race', 'sex', 'marriage and civil partnership', 'age', 'marriage and civil partnership', 'age', 'gender reassignment', 'race', 'disability', 'sex', 'marriage and civil partnership', 'age', 'pregnancy and maternity', 'sexual orientation', 'disability', 'marriage and civil partnership', 'gender reassignment', 'age', 'religion or belief', 'sexual orientation', 'religion or belief', 'age', 'religion or belief', 'age', 'race', 'sexual orientation', 'religion or belief', 'age', 'sex', 'religion or belief', 'religion or belief', 'pregnancy and maternity', 'sexual orientation', 'sex', 'pregnancy and maternity', 'marriage and civil partnership', 'sexual orientation', 'disability', 'age', 'sexual orientation', 'religion or belief', 'disability', 'gender reassignment', 'disability', 'gender reassignment', 'race', 'sexual orientation', 'race', 'age', 'gender reassignment', 'gender reassignment', 'religion or belief', 'disability', 'race', 'religion or belief', 'disability', 'religion or belief', 'sexual orientation', 'race', 'sexual orientation', 'religion or belief', 'gender reassignment', 'marriage and civil partnership', 'sex', 'religion or belief', 'sexual orientation', 'gender reassignment', 'age', 'disability', 'marriage and civil partnership', 'disability', 'marriage and civil partnership', 'pregnancy and maternity', 'gender reassignment', 'sex', 'marriage and civil partnership', 'marriage and civil partnership', 'marriage and civil partnership', 'disability', 'race', 'sex', 'gender reassignment', 'pregnancy and maternity', 'marriage and civil partnership', 'sexual orientation', 'religion or belief', 'marriage and civil partnership', 'race', 'gender reassignment', 'gender reassignment', 'age', 'religion or belief', 'sexual orientation', 'disability', 'pregnancy and maternity', 'disability', 'sex', 'gender reassignment', 'disability', 'pregnancy and maternity', 'marriage and civil partnership', 'gender reassignment', 'age', 'sex', 'race', 'religion or belief', 'gender reassignment', 'religion or belief', 'race', 'gender reassignment', 'pregnancy and maternity', 'disability', 'marriage and civil partnership', 'age', 'sex', 'disability', 'disability', 'sex', 'sexual orientation', 'race', 'religion or belief', 'religion or belief', 'disability', 'pregnancy and maternity', 'sexual orientation', 'age', 'age', 'sex', 'pregnancy and maternity', 'gender reassignment', 'pregnancy and maternity', 'sexual orientation', 'age', 'marriage and civil partnership', 'age', 'age', 'age', 'disability', 'gender reassignment', 'age', 'sex', 'age', 'age', 'religion or belief', 'disability', 'race', 'religion or belief', 'gender reassignment', 'disability', 'sex', 'sexual orientation', 'sex', 'marriage and civil partnership', 'gender reassignment', 'religion or belief', 'race', 'age', 'gender reassignment', 'pregnancy and maternity', 'marriage and civil partnership', 'sexual orientation', 'marriage and civil partnership', 'age', 'sexual orientation', 'age', 'race', 'marriage and civil partnership', 'disability', 'marriage and civil partnership', 'marriage and civil partnership', 'sexual orientation', 'disability', 'marriage and civil partnership', 'marriage and civil partnership', 'pregnancy and maternity', 'sex', 'sexual orientation', 'disability', 'age', 'age', 'disability', 'race', 'sexual orientation', 'sex', 'sex', 'sex', 'pregnancy and maternity', 'gender reassignment', 'age', 'gender reassignment', 'gender reassignment', 'pregnancy and maternity', 'age', 'pregnancy and maternity', 'sex', 'race', 'marriage and civil partnership', 'sex', 'marriage and civil partnership', 'age', 'gender reassignment', 'race', 'gender reassignment', 'sex', 'race', 'pregnancy and maternity', 'sex', 'race', 'sex', 'race', 'age', 'race', 'age', 'religion or belief', 'pregnancy and maternity', 'race', 'disability', 'marriage and civil partnership', 'religion or belief', 'pregnancy and maternity', 'race', 'disability', 'pregnancy and maternity', 'gender reassignment', 'pregnancy and maternity', 'gender reassignment', 'religion or belief', 'disability', 'pregnancy and maternity', 'marriage and civil partnership', 'disability', 'sex', 'age', 'sex', 'religion or belief', 'pregnancy and maternity', 'disability', 'gender reassignment', 'disability', 'gender reassignment', 'sexual orientation', 'religion or belief', 'age', 'gender reassignment', 'gender reassignment', 'sex', 'race', 'age', 'religion or belief', 'race', 'pregnancy and maternity', 'marriage and civil partnership', 'disability', 'pregnancy and maternity', 'gender reassignment', 'marriage and civil partnership', 'race', 'disability', 'disability', 'sex', 'religion or belief', 'sex', 'pregnancy and maternity', 'pregnancy and maternity', 'gender reassignment', 'race', 'disability', 'disability', 'sex', 'marriage and civil partnership', 'religion or belief', 'pregnancy and maternity', 'religion or belief', 'sexual orientation', 'gender reassignment', 'age', 'marriage and civil partnership', 'disability', 'age', 'race', 'marriage and civil partnership', 'sexual orientation', 'marriage and civil partnership', 'marriage and civil partnership', 'marriage and civil partnership', 'race', 'sexual orientation', 'disability', 'marriage and civil partnership', 'disability', 'marriage and civil partnership', 'pregnancy and maternity', 'marriage and civil partnership', 'disability', 'religion or belief', 'age', 'sex', 'religion or belief', 'gender reassignment', 'sexual orientation', 'sex', 'sexual orientation', 'pregnancy and maternity', 'religion or belief', 'age', 'religion or belief', 'sexual orientation', 'age', 'marriage and civil partnership', 'disability', 'disability', 'race', 'race', 'religion or belief', 'sexual orientation', 'pregnancy and maternity', 'sexual orientation', 'sexual orientation', 'marriage and civil partnership', 'sexual orientation', 'pregnancy and maternity', 'sexual orientation', 'disability', 'pregnancy and maternity', 'sex', 'religion or belief', 'sexual orientation', 'sexual orientation', 'sexual orientation', 'marriage and civil partnership', 'marriage and civil partnership', 'gender reassignment', 'age', 'gender reassignment', 'religion or belief', 'sexual orientation', 'pregnancy and maternity', 'marriage and civil partnership', 'sexual orientation', 'age', 'sexual orientation', 'disability', 'race', 'disability', 'sex', 'marriage and civil partnership', 'gender reassignment', 'marriage and civil partnership', 'sexual orientation', 'gender reassignment', 'sex', 'sex', 'age', 'sex', 'gender reassignment', 'age', 'marriage and civil partnership', 'gender reassignment', 'disability', 'pregnancy and maternity', 'pregnancy and maternity', 'pregnancy and maternity', 'marriage and civil partnership', 'age', 'age', 'disability', 'sexual orientation', 'sexual orientation', 'age', 'pregnancy and maternity', 'sex', 'sex', 'race', 'religion or belief', 'marriage and civil partnership', 'disability', 'disability', 'disability', 'race', 'gender reassignment', 'age', 'age', 'age', 'disability', 'religion or belief', 'sexual orientation', 'race', 'disability', 'religion or belief', 'religion or belief', 'race', 'age', 'sexual orientation', 'age', 'sex', 'religion or belief', 'sexual orientation', 'race', 'disability', 'religion or belief', 'race', 'race', 'disability', 'pregnancy and maternity', 'religion or belief', 'race', 'disability', 'marriage and civil partnership', 'age', 'marriage and civil partnership', 'age', 'sexual orientation', 'gender reassignment', 'sex', 'gender reassignment', 'race', 'marriage and civil partnership', 'pregnancy and maternity', 'age', 'pregnancy and maternity', 'race', 'race', 'race', 'disability', 'age', 'sex', 'religion or belief', 'gender reassignment', 'age', 'sexual orientation', 'sex', 'marriage and civil partnership', 'religion or belief', 'marriage and civil partnership', 'sexual orientation', 'gender reassignment', 'gender reassignment', 'gender reassignment', 'religion or belief', 'pregnancy and maternity', 'sex', 'sex', 'disability', 'sex', 'gender reassignment', 'gender reassignment', 'sex', 'age', 'sex', 'gender reassignment', 'disability', 'marriage and civil partnership', 'race', 'religion or belief', 'pregnancy and maternity', 'religion or belief', 'disability', 'gender reassignment', 'disability', 'age', 'gender reassignment', 'sex', 'age', 'sex', 'age', 'religion or belief', 'disability', 'race', 'marriage and civil partnership', 'sex', 'disability', 'age', 'age', 'race', 'gender reassignment', 'age', 'race', 'religion or belief', 'disability', 'marriage and civil partnership', 'sexual orientation', 'age', 'pregnancy and maternity', 'sex', 'marriage and civil partnership', 'disability', 'religion or belief', 'race', 'sex', 'age', 'age', 'disability', 'religion or belief', 'age', 'sex', 'sex', 'sex', 'disability', 'pregnancy and maternity', 'marriage and civil partnership', 'pregnancy and maternity', 'gender reassignment', 'race', 'sexual orientation', 'sexual orientation', 'marriage and civil partnership', 'sexual orientation', 'gender reassignment', 'gender reassignment', 'disability', 'pregnancy and maternity', 'religion or belief', 'marriage and civil partnership', 'disability', 'gender reassignment', 'marriage and civil partnership', 'sexual orientation', 'pregnancy and maternity', 'religion or belief', 'race', 'age', 'age', 'gender reassignment', 'sexual orientation', 'pregnancy and maternity', 'disability', 'sex', 'marriage and civil partnership', 'age', 'sexual orientation', 'sexual orientation', 'religion or belief', 'pregnancy and maternity', 'marriage and civil partnership', 'disability', 'gender reassignment', 'marriage and civil partnership', 'sexual orientation', 'sexual orientation', 'religion or belief', 'religion or belief', 'pregnancy and maternity', 'disability', 'religion or belief', 'gender reassignment', 'pregnancy and maternity', 'pregnancy and maternity', 'disability', 'race', 'race', 'marriage and civil partnership', 'race', 'age', 'pregnancy and maternity', 'marriage and civil partnership', 'age', 'marriage and civil partnership', 'gender reassignment', 'religion or belief', 'pregnancy and maternity', 'pregnancy and maternity', 'sexual orientation', 'sex', 'sex', 'sex', 'marriage and civil partnership', 'sex', 'disability', 'sex', 'sex', 'sexual orientation', 'sexual orientation', 'age', 'race', 'disability', 'race', 'religion or belief', 'religion or belief', 'sex', 'sexual orientation', 'race', 'sex', 'disability', 'sex', 'race', 'gender reassignment', 'marriage and civil partnership', 'marriage and civil partnership', 'age', 'pregnancy and maternity', 'marriage and civil partnership', 'religion or belief', 'marriage and civil partnership', 'religion or belief', 'pregnancy and maternity', 'gender reassignment', 'age', 'pregnancy and maternity', 'race', 'religion or belief', 'marriage and civil partnership', 'age', 'pregnancy and maternity', 'disability', 'age', 'religion or belief', 'pregnancy and maternity', 'pregnancy and maternity', 'marriage and civil partnership', 'disability', 'gender reassignment', 'gender reassignment', 'disability', 'sexual orientation', 'marriage and civil partnership', 'disability', 'marriage and civil partnership', 'religion or belief', 'sex', 'race', 'religion or belief', 'disability', 'sex', 'pregnancy and maternity', 'age', 'religion or belief', 'gender reassignment', 'religion or belief', 'marriage and civil partnership', 'marriage and civil partnership', 'age', 'race', 'sex', 'gender reassignment', 'disability', 'sex', 'disability', 'sexual orientation', 'religion or belief', 'sexual orientation', 'marriage and civil partnership', 'sexual orientation', 'marriage and civil partnership', 'sex', 'sex', 'sexual orientation', 'sexual orientation', 'gender reassignment', 'age', 'religion or belief', 'gender reassignment', 'pregnancy and maternity', 'disability', 'disability', 'gender reassignment', 'sex', 'disability', 'sex', 'marriage and civil partnership', 'marriage and civil partnership', 'religion or belief', 'age', 'pregnancy and maternity', 'sexual orientation', 'pregnancy and maternity', 'marriage and civil partnership', 'disability', 'sex', 'religion or belief', 'gender reassignment', 'marriage and civil partnership', 'disability', 'pregnancy and maternity', 'religion or belief', 'sex', 'pregnancy and maternity', 'disability', 'race', 'gender reassignment', 'religion or belief', 'sexual orientation', 'race', 'pregnancy and maternity', 'sexual orientation', 'age', 'pregnancy and maternity', 'gender reassignment', 'religion or belief', 'disability', 'sexual orientation', 'gender reassignment', 'gender reassignment', 'sexual orientation', 'gender reassignment', 'religion or belief', 'religion or belief', 'gender reassignment', 'religion or belief', 'marriage and civil partnership', 'sex', 'pregnancy and maternity', 'gender reassignment', 'sexual orientation', 'disability', 'marriage and civil partnership', 'gender reassignment', 'age', 'sexual orientation', 'sex', 'marriage and civil partnership', 'gender reassignment', 'religion or belief', 'age', 'sex', 'pregnancy and maternity', 'race', 'gender reassignment', 'sexual orientation', 'sex', 'sex', 'sex', 'sexual orientation', 'religion or belief', 'disability', 'pregnancy and maternity', 'pregnancy and maternity', 'race', 'gender reassignment', 'pregnancy and maternity', 'age', 'sex', 'gender reassignment', 'race', 'gender reassignment', 'sexual orientation', 'age', 'pregnancy and maternity', 'pregnancy and maternity', 'gender reassignment', 'race', 'disability', 'sex', 'sex', 'pregnancy and maternity', 'marriage and civil partnership', 'disability', 'sexual orientation', 'marriage and civil partnership', 'marriage and civil partnership', 'religion or belief', 'race', 'sexual orientation', 'pregnancy and maternity', 'disability', 'sexual orientation', 'disability', 'religion or belief', 'religion or belief', 'marriage and civil partnership', 'disability', 'age', 'disability', 'race', 'disability', 'age', 'sex', 'disability', 'pregnancy and maternity', 'religion or belief', 'age', 'age', 'gender reassignment', 'gender reassignment', 'sexual orientation', 'sex', 'age', 'pregnancy and maternity', 'sexual orientation', 'pregnancy and maternity', 'race', 'age', 'sexual orientation', 'sexual orientation', 'disability', 'religion or belief', 'gender reassignment', 'race', 'sex', 'sex', 'pregnancy and maternity', 'disability', 'sexual orientation', 'religion or belief', 'marriage and civil partnership', 'religion or belief', 'disability', 'race', 'sexual orientation', 'marriage and civil partnership', 'gender reassignment', 'sex', 'sex', 'sex', 'disability', 'age', 'gender reassignment', 'race', 'gender reassignment', 'race', 'age', 'pregnancy and maternity', 'disability', 'disability', 'race', 'sex', 'marriage and civil partnership', 'marriage and civil partnership', 'race', 'sex', 'sex', 'gender reassignment', 'race', 'sexual orientation', 'marriage and civil partnership', 'religion or belief', 'disability', 'disability', 'gender reassignment', 'sex', 'age', 'religion or belief', 'religion or belief', 'age', 'age', 'gender reassignment', 'race', 'gender reassignment', 'religion or belief', 'age', 'sex', 'sex', 'religion or belief', 'religion or belief', 'sex', 'gender reassignment', 'gender reassignment', 'race', 'pregnancy and maternity', 'sex', 'sexual orientation', 'gender reassignment', 'sex', 'race', 'religion or belief', 'age', 'disability', 'race', 'sexual orientation', 'religion or belief', 'sex', 'gender reassignment', 'sexual orientation', 'race', 'sex', 'race', 'disability', 'sexual orientation', 'religion or belief', 'age', 'race', 'sex', 'religion or belief', 'age', 'gender reassignment', 'age', 'marriage and civil partnership', 'race', 'sex', 'religion or belief', 'gender reassignment', 'sexual orientation', 'age', 'race', 'disability', 'religion or belief', 'pregnancy and maternity', 'pregnancy and maternity', 'disability', 'gender reassignment', 'sex', 'race', 'age', 'race', 'sexual orientation', 'sex', 'gender reassignment', 'sexual orientation', 'age', 'sex', 'pregnancy and maternity', 'sex', 'age', 'sexual orientation', 'sexual orientation', 'disability', 'age', 'gender reassignment', 'gender reassignment', 'religion or belief', 'religion or belief', 'religion or belief', 'race', 'pregnancy and maternity', 'sexual orientation', 'race', 'religion or belief', 'disability', 'race', 'disability', 'religion or belief', 'race', 'pregnancy and maternity', 'sexual orientation', 'marriage and civil partnership', 'religion or belief', 'race', 'sexual orientation', 'race', 'disability', 'pregnancy and maternity', 'sex', 'age', 'marriage and civil partnership', 'marriage and civil partnership', 'marriage and civil partnership', 'disability', 'age', 'age', 'sexual orientation', 'disability', 'sexual orientation', 'age', 'gender reassignment', 'sex', 'pregnancy and maternity', 'religion or belief', 'age', 'age', 'religion or belief', 'pregnancy and maternity', 'race', 'sex', 'religion or belief', 'age', 'sexual orientation', 'marriage and civil partnership', 'sex', 'pregnancy and maternity', 'gender reassignment', 'pregnancy and maternity', 'sex', 'marriage and civil partnership', 'gender reassignment', 'pregnancy and maternity', 'age', 'sexual orientation', 'age', 'race', 'sex', 'sex', 'religion or belief', 'gender reassignment', 'sex', 'marriage and civil partnership', 'gender reassignment', 'race', 'race', 'pregnancy and maternity', 'age', 'disability', 'sex', 'pregnancy and maternity', 'age', 'sex', 'sex', 'race', 'religion or belief', 'gender reassignment', 'race', 'race', 'disability', 'gender reassignment', 'religion or belief', 'marriage and civil partnership', 'age', 'sex', 'religion or belief', 'age', 'race', 'sexual orientation', 'sex', 'pregnancy and maternity', 'pregnancy and maternity', 'marriage and civil partnership', 'marriage and civil partnership', 'sex', 'sex', 'religion or belief', 'sexual orientation', 'marriage and civil partnership', 'race', 'gender reassignment', 'race', 'age', 'gender reassignment', 'pregnancy and maternity', 'race', 'disability', 'gender reassignment', 'religion or belief', 'pregnancy and maternity', 'religion or belief', 'pregnancy and maternity', 'race', 'race', 'religion or belief', 'gender reassignment', 'sexual orientation', 'sex', 'marriage and civil partnership', 'religion or belief', 'gender reassignment', 'race', 'age', 'marriage and civil partnership', 'sex', 'disability', 'marriage and civil partnership', 'pregnancy and maternity', 'sex', 'disability', 'religion or belief', 'sex', 'marriage and civil partnership', 'marriage and civil partnership', 'age', 'pregnancy and maternity', 'gender reassignment', 'gender reassignment', 'sexual orientation', 'sex', 'sex', 'race', 'religion or belief', 'religion or belief', 'sex', 'age', 'sex', 'religion or belief', 'pregnancy and maternity', 'age', 'disability', 'pregnancy and maternity', 'religion or belief', 'sex', 'religion or belief', 'marriage and civil partnership', 'pregnancy and maternity', 'pregnancy and maternity', 'religion or belief', 'sex', 'marriage and civil partnership', 'religion or belief', 'sexual orientation', 'gender reassignment', 'religion or belief', 'pregnancy and maternity', 'marriage and civil partnership', 'sex', 'marriage and civil partnership', 'sex', 'pregnancy and maternity', 'sex', 'religion or belief', 'disability', 'disability', 'sexual orientation', 'gender reassignment', 'sex', 'age', 'gender reassignment', 'age', 'marriage and civil partnership', 'marriage and civil partnership', 'age', 'marriage and civil partnership', 'pregnancy and maternity', 'age', 'religion or belief', 'race', 'sex', 'disability', 'race', 'disability', 'religion or belief', 'gender reassignment', 'race', 'religion or belief', 'race', 'gender reassignment', 'marriage and civil partnership', 'marriage and civil partnership', 'age', 'race', 'age', 'gender reassignment', 'disability', 'gender reassignment', 'pregnancy and maternity', 'gender reassignment', 'race', 'marriage and civil partnership', 'religion or belief', 'pregnancy and maternity', 'gender reassignment', 'marriage and civil partnership', 'disability', 'age', 'age', 'race', 'sex', 'gender reassignment', 'disability', 'pregnancy and maternity', 'age', 'gender reassignment', 'sexual orientation', 'pregnancy and maternity', 'race', 'religion or belief', 'race', 'gender reassignment', 'disability', 'pregnancy and maternity', 'religion or belief', 'age', 'sexual orientation', 'race', 'age', 'sex', 'pregnancy and maternity', 'sexual orientation', 'pregnancy and maternity', 'religion or belief', 'race', 'pregnancy and maternity', 'race', 'age', 'pregnancy and maternity', 'race', 'gender reassignment', 'race', 'gender reassignment', 'pregnancy and maternity', 'religion or belief', 'age', 'disability', 'religion or belief', 'pregnancy and maternity', 'marriage and civil partnership', 'marriage and civil partnership', 'pregnancy and maternity', 'race', 'disability', 'marriage and civil partnership', 'pregnancy and maternity', 'age', 'pregnancy and maternity', 'religion or belief', 'sexual orientation', 'religion or belief', 'race', 'race', 'religion or belief', 'sex', 'religion or belief', 'race', 'disability', 'age', 'pregnancy and maternity', 'disability', 'gender reassignment', 'sex', 'marriage and civil partnership', 'gender reassignment', 'race', 'sex', 'gender reassignment', 'race', 'religion or belief', 'marriage and civil partnership', 'marriage and civil partnership', 'religion or belief', 'gender reassignment', 'sexual orientation', 'pregnancy and maternity', 'religion or belief', 'age', 'religion or belief', 'gender reassignment', 'disability', 'sexual orientation', 'marriage and civil partnership', 'race', 'race', 'race', 'age', 'disability', 'marriage and civil partnership', 'age', 'pregnancy and maternity', 'marriage and civil partnership', 'gender reassignment', 'sex', 'disability', 'sexual orientation', 'age', 'disability', 'age', 'gender reassignment', 'sexual orientation', 'disability', 'pregnancy and maternity', 'sex', 'marriage and civil partnership', 'sex', 'marriage and civil partnership', 'religion or belief', 'age', 'pregnancy and maternity', 'sex', 'religion or belief', 'race', 'age', 'pregnancy and maternity', 'gender reassignment', 'sexual orientation', 'religion or belief', 'race', 'pregnancy and maternity', 'sex', 'religion or belief', 'sex', 'disability', 'disability', 'disability', 'gender reassignment', 'pregnancy and maternity', 'religion or belief', 'disability', 'marriage and civil partnership', 'sexual orientation', 'religion or belief', 'pregnancy and maternity', 'race', 'pregnancy and maternity', 'race', 'gender reassignment', 'pregnancy and maternity', 'race', 'religion or belief', 'pregnancy and maternity', 'marriage and civil partnership', 'race', 'sex', 'race', 'age', 'race', 'pregnancy and maternity', 'gender reassignment', 'marriage and civil partnership', 'sex', 'religion or belief', 'pregnancy and maternity', 'race', 'pregnancy and maternity', 'age', 'pregnancy and maternity', 'marriage and civil partnership', 'disability', 'disability', 'race', 'age', 'race', 'religion or belief', 'sex', 'sex', 'disability', 'disability', 'sexual orientation', 'marriage and civil partnership', 'pregnancy and maternity', 'gender reassignment', 'religion or belief', 'age', 'gender reassignment', 'race', 'marriage and civil partnership', 'marriage and civil partnership', 'pregnancy and maternity', 'sex', 'marriage and civil partnership', 'pregnancy and maternity', 'race', 'race', 'age', 'pregnancy and maternity', 'sexual orientation', 'pregnancy and maternity', 'pregnancy and maternity', 'pregnancy and maternity', 'marriage and civil partnership', 'disability', 'sex', 'marriage and civil partnership', 'gender reassignment', 'sexual orientation', 'disability', 'disability', 'age', 'sexual orientation', 'pregnancy and maternity', 'marriage and civil partnership', 'marriage and civil partnership', 'marriage and civil partnership', 'gender reassignment', 'marriage and civil partnership', 'age', 'religion or belief', 'pregnancy and maternity', 'religion or belief', 'age', 'sex', 'gender reassignment', 'race', 'disability', 'sexual orientation', 'sex', 'marriage and civil partnership', 'religion or belief', 'race', 'gender reassignment', 'sex', 'race', 'pregnancy and maternity', 'race', 'marriage and civil partnership', 'religion or belief', 'marriage and civil partnership', 'gender reassignment', 'pregnancy and maternity', 'disability', 'gender reassignment', 'marriage and civil partnership', 'age', 'religion or belief', 'sex', 'disability', 'religion or belief', 'religion or belief', 'sex', 'marriage and civil partnership', 'pregnancy and maternity', 'race', 'religion or belief', 'marriage and civil partnership', 'disability', 'sexual orientation', 'marriage and civil partnership', 'sex', 'age', 'religion or belief', 'disability', 'race', 'disability', 'marriage and civil partnership', 'disability', 'sexual orientation', 'religion or belief', 'sexual orientation', 'sexual orientation', 'gender reassignment', 'marriage and civil partnership', 'sexual orientation', 'pregnancy and maternity', 'age', 'pregnancy and maternity', 'pregnancy and maternity', 'age', 'race', 'sexual orientation', 'pregnancy and maternity', 'race', 'marriage and civil partnership', 'pregnancy and maternity', 'race', 'race', 'sexual orientation', 'marriage and civil partnership', 'disability', 'gender reassignment', 'sexual orientation', 'marriage and civil partnership', 'sexual orientation', 'sexual orientation', 'gender reassignment', 'age', 'marriage and civil partnership', 'gender reassignment', 'marriage and civil partnership', 'sexual orientation', 'pregnancy and maternity', 'sex', 'religion or belief', 'disability', 'race', 'disability', 'sex', 'gender reassignment', 'sexual orientation', 'religion or belief', 'age', 'pregnancy and maternity', 'gender reassignment', 'sex', 'marriage and civil partnership', 'sexual orientation', 'religion or belief', 'sexual orientation', 'pregnancy and maternity', 'marriage and civil partnership', 'age', 'race', 'sexual orientation', 'sexual orientation', 'marriage and civil partnership', 'age', 'sexual orientation', 'sex', 'marriage and civil partnership', 'race', 'sex', 'pregnancy and maternity', 'marriage and civil partnership', 'pregnancy and maternity', 'gender reassignment', 'sexual orientation', 'gender reassignment', 'gender reassignment', 'pregnancy and maternity', 'race', 'sex', 'pregnancy and maternity', 'disability', 'sexual orientation', 'gender reassignment', 'disability', 'race', 'gender reassignment', 'gender reassignment', 'marriage and civil partnership', 'pregnancy and maternity', 'marriage and civil partnership', 'age', 'sexual orientation', 'religion or belief', 'disability', 'race', 'race', 'age', 'age', 'sexual orientation', 'marriage and civil partnership', 'religion or belief', 'disability', 'disability', 'gender reassignment', 'sex', 'disability', 'disability', 'race', 'gender reassignment', 'disability', 'sexual orientation', 'sexual orientation', 'religion or belief', 'disability', 'sexual orientation', 'sex', 'sex', 'sexual orientation', 'sexual orientation', 'sexual orientation', 'age', 'gender reassignment', 'sexual orientation', 'sexual orientation', 'race', 'marriage and civil partnership', 'age', 'age', 'race', 'age', 'disability', 'disability', 'sexual orientation', 'sex', 'religion or belief', 'age', 'religion or belief', 'marriage and civil partnership', 'race', 'pregnancy and maternity', 'marriage and civil partnership', 'disability', 'marriage and civil partnership', 'pregnancy and maternity', 'sex', 'marriage and civil partnership', 'disability', 'age', 'marriage and civil partnership', 'gender reassignment', 'religion or belief', 'race', 'sexual orientation', 'religion or belief', 'religion or belief', 'age', 'pregnancy and maternity', 'age', 'pregnancy and maternity', 'pregnancy and maternity', 'sexual orientation', 'age', 'gender reassignment', 'sexual orientation', 'race', 'pregnancy and maternity', 'pregnancy and maternity', 'gender reassignment', 'race', 'religion or belief', 'race', 'gender reassignment', 'age', 'sexual orientation', 'marriage and civil partnership', 'sexual orientation', 'age', 'disability', 'gender reassignment', 'gender reassignment', 'gender reassignment', 'disability', 'race', 'pregnancy and maternity', 'pregnancy and maternity', 'disability', 'disability', 'sexual orientation', 'religion or belief', 'age', 'pregnancy and maternity', 'pregnancy and maternity', 'race', 'religion or belief', 'disability', 'religion or belief', 'disability', 'religion or belief', 'sex', 'age', 'gender reassignment', 'disability', 'sex', 'gender reassignment', 'race', 'religion or belief', 'sex', 'sexual orientation', 'religion or belief', 'marriage and civil partnership', 'religion or belief', 'marriage and civil partnership', 'sex', 'gender reassignment', 'age', 'marriage and civil partnership', 'age', 'age', 'race', 'sexual orientation', 'sex', 'pregnancy and maternity', 'gender reassignment', 'race', 'disability', 'race', 'pregnancy and maternity', 'age', 'race', 'age', 'gender reassignment', 'age', 'sexual orientation', 'pregnancy and maternity', 'marriage and civil partnership', 'marriage and civil partnership', 'pregnancy and maternity', 'race', 'marriage and civil partnership', 'sex', 'religion or belief', 'religion or belief', 'race', 'age', 'sexual orientation', 'disability', 'sex', 'sex', 'sexual orientation', 'religion or belief', 'marriage and civil partnership', 'disability', 'race', 'marriage and civil partnership', 'sexual orientation', 'sexual orientation', 'sexual orientation', 'sexual orientation', 'age', 'religion or belief', 'religion or belief', 'disability', 'sexual orientation', 'marriage and civil partnership', 'marriage and civil partnership', 'religion or belief', 'gender reassignment', 'religion or belief', 'religion or belief', 'race', 'age', 'marriage and civil partnership', 'gender reassignment', 'marriage and civil partnership', 'race', 'marriage and civil partnership', 'age', 'gender reassignment', 'race', 'disability', 'sexual orientation', 'age', 'sex', 'religion or belief', 'race', 'religion or belief', 'sex', 'sex', 'race', 'age', 'marriage and civil partnership', 'disability', 'marriage and civil partnership', 'sex', 'disability', 'age', 'marriage and civil partnership', 'marriage and civil partnership', 'disability', 'religion or belief', 'gender reassignment', 'sex', 'race', 'disability', 'marriage and civil partnership', 'sex', 'marriage and civil partnership', 'disability', 'sexual orientation', 'race', 'religion or belief', 'religion or belief', 'marriage and civil partnership', 'gender reassignment', 'race', 'age', 'religion or belief', 'age', 'pregnancy and maternity', 'disability', 'gender reassignment', 'pregnancy and maternity', 'sexual orientation', 'marriage and civil partnership', 'gender reassignment', 'marriage and civil partnership']\n",
            "number of occurrences of 'age' in the characteristics:  214\n"
          ]
        }
      ]
    },
    {
      "cell_type": "markdown",
      "metadata": {
        "id": "zm2VI5RmfoSy"
      },
      "source": [
        "---\n",
        "### Exercise 6 - sort the nums list\n",
        "\n",
        "Write a function which will:\n",
        "*   call the function `get_num_list()` and store the result in a new list called **sort_nums**\n",
        "*   print the first, and last, 20 items in the `sort_nums` list\n",
        "*   use the `list_name.sort()` method to sort the `sort_nums` list into ascending order\n",
        "*   print the first, and last, 20 items again  \n",
        "*   use the `list_name.sort()` method again to sort the `sort_nums` list into descending order\n",
        "*   print the first, and last, 20 items again"
      ]
    },
    {
      "cell_type": "code",
      "metadata": {
        "id": "Fksgpj9JgWDs"
      },
      "source": [
        "def sort_numbers():\n",
        " sort_nums = get_num_list()\n",
        " print(sort_nums)\n",
        " print(\"first 20 items in the sort_nums list: \", sort_nums[:20])\n",
        " print(\"last 20 items in the sort_nums list: \", sort_nums[-20:])\n",
        " print()\n",
        " #a=sort_nums.sort(reverse=False)\n",
        " #print(\"sort list Ascending order aaaaaa:\", a)\n",
        " print(\"sort list Ascending order:\", sort_nums)\n",
        "\n",
        " \n",
        " print(\"first 20 items in the sort_nums list: \", sort_nums[:20])\n",
        " print(\"last 20 items in the sort_nums list: \", sort_nums[-20:])\n",
        " print()\n",
        " sort_nums.sort(reverse=True)\n",
        " print(\"sort list Descending order:\", sort_nums)\n",
        " print(\"first 20 items in the sort_nums list: \", sort_nums[:20])\n",
        " print(\"last 20 items in the sort_nums list: \", sort_nums[-20:])\n",
        "sort_numbers()"
      ],
      "execution_count": null,
      "outputs": []
    },
    {
      "cell_type": "markdown",
      "metadata": {
        "id": "_OF-Xuj1UrW0"
      },
      "source": [
        "---\n",
        "### Exercise 7 - get statistics (max(), min(), sum() )\n",
        "\n",
        "Write a function which will:\n",
        "*   print the maximum and minimum numbers in the `nums` list  \n",
        "*   print the sum of the `nums` list\n",
        "*   calculate and print the average of the `nums` list (using `len()` to help)"
      ]
    },
    {
      "cell_type": "code",
      "metadata": {
        "id": "9YmYMenZVGod",
        "outputId": "530b3965-b8b3-4548-9d46-898e5921fd9f",
        "colab": {
          "base_uri": "https://localhost:8080/"
        }
      },
      "source": [
        "def get_statistics(nums):\n",
        "  nums=nums\n",
        "  print(\"maximum number in the nums list\", max(nums))\n",
        "  print(\"minimum number in the nums list\", min(nums))\n",
        "  print(\"sum value in the nums list\", sum(nums))\n",
        "  #print(nums)\n",
        "get_statistics(nums)"
      ],
      "execution_count": 11,
      "outputs": [
        {
          "output_type": "stream",
          "name": "stdout",
          "text": [
            "maximum number in the nums list 100\n",
            "minimum number in the nums list 1\n",
            "sum value in the nums list 50484\n"
          ]
        }
      ]
    },
    {
      "cell_type": "markdown",
      "metadata": {
        "id": "Mn4tHQ_KVbHa"
      },
      "source": [
        "---\n",
        "### Exercise 8 - percentage difference\n",
        "\n",
        "Write a function which will:\n",
        "*   generate a new list called **ex8_nums** using `get_num_list()`\n",
        "*   calculate and print the percentage difference between the first number in each list (as a percentage of the number in the nums list) (Hint:  find the difference between the two numbers, divide the difference by the number in `nums` and multiply by 100)\n",
        "*   calculate and print the percentage difference between the last numbers in each list in the same way\n",
        "*   calculate and print the percentage difference between the middle numbers in each list in the same way.\n",
        "*   calculate and print the percentage difference between the sums of each list in the same way"
      ]
    },
    {
      "cell_type": "code",
      "metadata": {
        "id": "nJCQjZIeZL0e",
        "outputId": "62d20f3a-f310-4f3a-f423-fc2ee8f7f391",
        "colab": {
          "base_uri": "https://localhost:8080/"
        }
      },
      "source": [
        "def exercise_8(nums):\n",
        "  ex8_nums=get_num_list()\n",
        "  nums=nums\n",
        "\n",
        "  print(len(ex8_nums), ex8_nums )\n",
        "  print(len(nums), nums)\n",
        "\n",
        "  percentage_diff1=((ex8_nums[0] - nums[0])/nums[0])*100\n",
        "  print(\"percentage difference between the first numbers in each list\", percentage_diff1)\n",
        "  percentage_diff2=((ex8_nums[-1] - nums[-1])/nums[-1])*100\n",
        "  print(\"percentage difference between the last numbers in each list\", percentage_diff2)\n",
        "\n",
        "  value1 = ex8_nums[int(len(ex8_nums)/2)]\n",
        "  value2 = nums[int(len(nums)/2)]\n",
        "  #print(value1,value2)\n",
        "  percentage_diff3=((value1-value2)/value2)*100\n",
        "  print(\"percentage difference between the middle numbers in each list\", percentage_diff3)\n",
        "  \n",
        "  value3=sum(nums)\n",
        "  value4=sum(ex8_nums)\n",
        "  #print(value3,value4)\n",
        "  percentage_diff4=((value3-value4)/value4)*100\n",
        "  print(\"percentage difference between the sum of numbers in each list\", percentage_diff4)\n",
        "\n",
        "exercise_8(nums)"
      ],
      "execution_count": 12,
      "outputs": [
        {
          "output_type": "stream",
          "name": "stdout",
          "text": [
            "1000 [41, 75, 31, 89, 34, 31, 89, 21, 14, 24, 20, 29, 95, 34, 51, 51, 44, 62, 83, 24, 19, 86, 85, 14, 65, 73, 77, 64, 31, 12, 12, 61, 36, 84, 14, 57, 74, 55, 60, 54, 55, 81, 39, 77, 89, 92, 47, 59, 9, 20, 2, 36, 45, 25, 64, 97, 73, 81, 65, 56, 54, 77, 15, 58, 38, 64, 65, 91, 71, 26, 24, 47, 24, 65, 22, 91, 80, 90, 7, 96, 90, 97, 29, 94, 83, 39, 54, 43, 71, 67, 40, 39, 32, 12, 45, 3, 3, 5, 9, 26, 74, 46, 48, 86, 86, 30, 91, 34, 82, 93, 11, 23, 45, 69, 92, 81, 54, 78, 70, 16, 86, 81, 76, 52, 74, 20, 39, 8, 2, 64, 23, 98, 11, 17, 47, 91, 77, 91, 99, 48, 31, 43, 3, 57, 80, 26, 99, 5, 14, 53, 27, 79, 54, 61, 40, 84, 87, 5, 72, 22, 72, 90, 55, 76, 2, 66, 56, 72, 18, 32, 4, 16, 3, 5, 43, 58, 72, 13, 45, 38, 80, 60, 24, 8, 37, 71, 72, 91, 38, 29, 71, 87, 27, 70, 31, 73, 23, 41, 57, 54, 24, 85, 95, 3, 61, 33, 62, 50, 87, 53, 10, 12, 61, 7, 95, 89, 37, 87, 13, 18, 16, 34, 26, 74, 8, 25, 49, 69, 61, 76, 61, 39, 12, 88, 11, 49, 39, 36, 80, 48, 41, 69, 96, 23, 75, 90, 71, 4, 73, 3, 41, 39, 70, 88, 7, 30, 83, 3, 42, 40, 31, 14, 92, 61, 15, 45, 3, 54, 40, 61, 51, 7, 37, 35, 85, 13, 2, 8, 81, 7, 25, 45, 34, 15, 43, 44, 79, 72, 62, 35, 84, 21, 23, 18, 79, 34, 57, 56, 67, 55, 23, 61, 41, 35, 1, 3, 34, 65, 3, 94, 49, 64, 86, 49, 35, 45, 2, 40, 70, 41, 81, 86, 39, 26, 43, 100, 51, 27, 74, 23, 32, 18, 40, 16, 57, 8, 95, 14, 54, 10, 64, 93, 80, 35, 19, 14, 49, 86, 17, 49, 4, 7, 94, 62, 14, 94, 95, 77, 30, 98, 44, 41, 46, 7, 43, 7, 70, 18, 3, 98, 74, 89, 46, 21, 68, 95, 95, 47, 82, 79, 16, 49, 66, 84, 84, 31, 42, 88, 83, 27, 87, 57, 11, 62, 12, 97, 50, 44, 2, 75, 70, 2, 90, 31, 47, 36, 4, 13, 24, 95, 88, 56, 86, 80, 59, 20, 36, 86, 29, 98, 82, 9, 81, 90, 33, 39, 29, 76, 93, 38, 11, 45, 35, 68, 30, 65, 84, 92, 69, 78, 55, 27, 50, 61, 92, 95, 96, 79, 10, 100, 23, 93, 68, 67, 91, 97, 87, 2, 26, 71, 69, 23, 18, 85, 97, 4, 35, 93, 11, 27, 58, 98, 40, 97, 25, 63, 8, 14, 1, 71, 11, 10, 13, 28, 84, 86, 96, 50, 51, 26, 62, 78, 55, 78, 44, 77, 11, 90, 72, 97, 40, 28, 35, 10, 78, 34, 95, 47, 17, 78, 38, 74, 40, 71, 34, 73, 14, 18, 57, 85, 67, 77, 46, 26, 49, 95, 16, 30, 81, 8, 90, 79, 90, 87, 31, 93, 18, 67, 44, 36, 31, 85, 72, 6, 98, 38, 60, 25, 62, 94, 79, 81, 47, 62, 85, 43, 65, 59, 69, 25, 35, 36, 49, 29, 84, 24, 77, 56, 85, 91, 46, 28, 67, 21, 13, 99, 14, 65, 40, 17, 33, 95, 20, 58, 61, 96, 47, 55, 30, 3, 66, 86, 15, 38, 20, 79, 42, 74, 22, 64, 38, 54, 73, 6, 37, 81, 36, 35, 51, 84, 38, 9, 96, 13, 73, 2, 86, 57, 67, 21, 93, 40, 64, 53, 73, 41, 78, 54, 27, 58, 3, 63, 79, 48, 14, 83, 100, 37, 86, 21, 84, 51, 85, 85, 75, 29, 45, 63, 97, 66, 21, 71, 86, 28, 33, 72, 47, 7, 64, 78, 74, 27, 59, 53, 5, 59, 12, 19, 85, 89, 48, 44, 43, 17, 32, 8, 63, 91, 90, 68, 28, 77, 58, 29, 7, 12, 53, 76, 22, 72, 8, 51, 69, 98, 66, 14, 40, 68, 1, 11, 83, 27, 67, 12, 21, 26, 81, 1, 33, 11, 58, 90, 80, 46, 22, 87, 46, 51, 80, 52, 62, 91, 25, 36, 32, 20, 96, 47, 34, 84, 90, 64, 36, 55, 6, 36, 42, 33, 22, 53, 75, 54, 36, 8, 14, 17, 97, 22, 31, 14, 3, 25, 49, 93, 10, 10, 13, 39, 29, 85, 40, 85, 53, 82, 94, 40, 2, 75, 4, 49, 64, 7, 49, 22, 34, 63, 4, 25, 95, 100, 91, 42, 49, 12, 62, 72, 31, 65, 48, 97, 44, 67, 56, 68, 42, 29, 54, 76, 38, 5, 57, 100, 4, 50, 23, 21, 27, 13, 73, 79, 80, 95, 66, 19, 33, 20, 77, 8, 90, 100, 40, 55, 31, 66, 56, 65, 100, 16, 18, 80, 1, 54, 94, 16, 4, 98, 18, 21, 62, 63, 63, 16, 50, 26, 44, 52, 52, 41, 84, 96, 84, 76, 99, 65, 67, 33, 60, 10, 44, 89, 10, 83, 75, 1, 77, 55, 26, 26, 61, 71, 23, 15, 96, 29, 54, 76, 60, 27, 62, 6, 34, 63, 74, 68, 34, 76, 4, 92, 60, 47, 34, 9, 66, 49, 56, 87, 44, 43, 23, 99, 49, 14, 5, 42, 17, 9, 51, 46, 92, 40, 16, 29, 15, 29, 9, 9, 17, 93, 95, 35, 10, 93, 40, 97, 76, 43, 63, 24, 5, 70, 94, 34, 94, 67, 51, 15, 80, 97, 96, 77, 72, 47, 70, 50, 23, 11, 79, 98, 21, 84, 10, 45, 4, 74, 88, 8, 75, 45, 93, 27, 45, 65, 75, 42, 27, 33, 30, 33, 46, 16, 56, 83, 71, 20, 2, 32, 36, 61, 47, 55, 75, 12, 78, 66, 84, 40, 58, 99, 78, 43, 88, 91, 21, 70, 58, 44, 95, 1, 32, 89]\n",
            "1000 [63, 14, 48, 95, 48, 83, 94, 18, 72, 61, 27, 72, 4, 56, 51, 64, 22, 67, 90, 18, 59, 95, 17, 87, 49, 54, 48, 1, 15, 37, 34, 58, 64, 76, 45, 88, 53, 82, 2, 6, 15, 10, 10, 33, 42, 88, 23, 38, 62, 3, 15, 100, 43, 48, 13, 30, 66, 92, 79, 50, 86, 12, 41, 51, 72, 15, 73, 54, 50, 15, 66, 53, 99, 75, 65, 72, 31, 55, 34, 99, 7, 36, 45, 8, 40, 85, 80, 3, 58, 95, 33, 56, 19, 97, 64, 60, 4, 77, 56, 21, 40, 19, 82, 22, 30, 7, 97, 96, 69, 70, 13, 72, 75, 91, 32, 50, 98, 24, 92, 52, 40, 69, 9, 43, 97, 78, 60, 82, 52, 29, 16, 16, 100, 53, 45, 7, 38, 62, 83, 59, 33, 24, 4, 9, 53, 76, 68, 98, 51, 15, 69, 84, 67, 83, 71, 52, 96, 81, 55, 39, 13, 22, 46, 64, 26, 39, 19, 95, 27, 29, 45, 56, 23, 84, 6, 26, 39, 89, 43, 49, 44, 56, 68, 21, 18, 11, 16, 92, 100, 40, 92, 35, 12, 87, 73, 43, 48, 91, 2, 91, 25, 4, 48, 69, 11, 49, 40, 44, 3, 39, 24, 3, 77, 68, 57, 28, 12, 40, 91, 51, 29, 1, 73, 29, 90, 74, 54, 39, 67, 42, 78, 75, 73, 86, 55, 30, 96, 7, 27, 30, 62, 35, 12, 87, 77, 63, 66, 4, 28, 19, 43, 81, 56, 30, 68, 82, 84, 49, 80, 6, 2, 74, 44, 82, 63, 44, 24, 17, 27, 87, 69, 46, 31, 53, 86, 76, 84, 81, 48, 63, 44, 99, 32, 12, 67, 49, 10, 18, 31, 58, 79, 43, 6, 51, 19, 99, 90, 38, 91, 66, 80, 58, 70, 18, 24, 65, 32, 73, 14, 23, 13, 35, 44, 53, 25, 82, 94, 49, 65, 83, 31, 90, 10, 15, 84, 66, 51, 30, 100, 17, 70, 50, 23, 37, 69, 73, 2, 84, 18, 73, 79, 80, 5, 48, 94, 20, 1, 63, 30, 4, 98, 72, 13, 89, 62, 45, 2, 16, 47, 56, 39, 45, 31, 57, 90, 8, 47, 99, 25, 13, 64, 57, 66, 85, 15, 5, 96, 56, 34, 76, 74, 36, 3, 7, 41, 89, 47, 20, 30, 51, 41, 32, 19, 54, 66, 22, 68, 15, 77, 81, 71, 48, 40, 12, 57, 21, 19, 14, 37, 18, 43, 51, 36, 51, 8, 43, 27, 33, 89, 93, 31, 53, 87, 28, 65, 2, 74, 81, 30, 30, 55, 4, 57, 37, 51, 32, 29, 31, 21, 45, 66, 43, 44, 72, 41, 97, 50, 72, 59, 67, 9, 60, 50, 10, 70, 98, 89, 13, 92, 50, 32, 95, 40, 68, 29, 32, 80, 75, 96, 12, 31, 17, 69, 36, 74, 85, 78, 29, 16, 80, 4, 9, 4, 35, 54, 71, 29, 64, 72, 69, 41, 80, 84, 14, 71, 70, 57, 44, 75, 15, 82, 45, 70, 46, 55, 42, 33, 73, 66, 63, 24, 40, 92, 58, 98, 33, 45, 21, 80, 33, 2, 72, 47, 79, 40, 24, 56, 73, 70, 4, 97, 89, 20, 66, 5, 32, 22, 17, 66, 64, 98, 3, 14, 99, 46, 80, 62, 42, 73, 38, 30, 98, 30, 96, 17, 90, 78, 64, 6, 84, 28, 31, 62, 33, 90, 19, 34, 66, 38, 72, 54, 88, 67, 52, 80, 99, 51, 51, 85, 10, 85, 15, 58, 54, 97, 24, 39, 86, 76, 53, 37, 43, 61, 90, 31, 76, 33, 64, 51, 9, 100, 41, 99, 89, 73, 84, 85, 94, 60, 16, 67, 49, 80, 50, 12, 49, 78, 43, 51, 13, 60, 3, 4, 21, 13, 35, 21, 44, 26, 67, 59, 35, 77, 100, 53, 59, 100, 65, 29, 45, 34, 93, 62, 34, 47, 7, 20, 51, 45, 50, 35, 58, 66, 73, 42, 83, 73, 66, 75, 42, 4, 87, 49, 8, 34, 24, 47, 70, 60, 5, 63, 58, 17, 55, 100, 88, 61, 6, 46, 29, 54, 51, 63, 44, 24, 66, 10, 2, 57, 42, 78, 82, 52, 90, 6, 83, 66, 43, 96, 94, 58, 23, 87, 25, 42, 83, 66, 18, 52, 2, 17, 9, 33, 79, 47, 61, 52, 16, 63, 6, 69, 34, 29, 57, 6, 50, 71, 25, 61, 14, 92, 25, 91, 35, 67, 42, 84, 55, 35, 11, 59, 31, 91, 93, 23, 82, 80, 88, 28, 45, 48, 71, 40, 80, 8, 40, 45, 42, 21, 73, 62, 71, 70, 67, 72, 16, 8, 17, 78, 54, 63, 41, 58, 35, 25, 18, 21, 97, 84, 70, 65, 53, 22, 45, 36, 96, 97, 16, 47, 28, 50, 35, 96, 100, 26, 50, 91, 15, 23, 84, 34, 61, 46, 61, 17, 46, 84, 63, 21, 25, 88, 42, 98, 28, 90, 22, 3, 52, 56, 16, 99, 41, 8, 98, 27, 70, 83, 77, 39, 14, 86, 47, 34, 56, 44, 16, 96, 29, 83, 56, 62, 63, 24, 87, 45, 8, 6, 5, 46, 70, 8, 36, 31, 81, 74, 75, 45, 31, 82, 69, 61, 33, 82, 20, 8, 89, 48, 98, 73, 1, 99, 12, 52, 72, 48, 60, 47, 9, 61, 86, 42, 13, 100, 89, 16, 92, 67, 69, 60, 39, 61, 31, 59, 100, 11, 16, 53, 12, 32, 41, 57, 6, 92, 58, 37, 40, 64, 53, 83, 20, 53, 74, 65, 91, 1, 92, 89, 76, 81, 8, 45, 19, 65, 64, 67, 11, 24, 48, 82, 6, 30, 23, 50, 97, 80, 97, 3, 14, 69, 1, 28, 92, 22, 69, 70, 28, 59, 87, 26, 45, 83, 53, 79, 25, 85, 55, 92, 70, 59, 65, 15, 51, 47, 62, 18, 55, 38, 46, 37, 6, 67, 82, 36, 14, 44, 51, 14, 25, 94, 41, 70, 33, 80, 2, 72, 75, 18, 88, 26, 39, 24, 62, 33, 54, 92, 67, 56, 73, 44, 6]\n",
            "percentage difference between the first numbers in each list -34.92063492063492\n",
            "percentage difference between the last numbers in each list 1383.3333333333335\n",
            "percentage difference between the middle numbers in each list -51.21951219512195\n",
            "percentage difference between the sum of numbers in each list -0.09103502869582426\n"
          ]
        }
      ]
    },
    {
      "cell_type": "markdown",
      "metadata": {
        "id": "HNs3lZmYawFO"
      },
      "source": [
        "---\n",
        "### Exercise 9 - characteristic counts\n",
        "\n",
        "Write a function which will:\n",
        "*  iterate through the `protected_characteristics` tuple and for each **characteristic**:\n",
        "*   *   count the number of occurrences of that `characteristic` in the `characteristics` list\n",
        "*   *   print the `protected_characteristic` and the **count**  \n",
        "\n",
        "Example expected output:\n",
        "\n",
        "age 100  \n",
        "disability 120  \n",
        "gender reassignment 120  \n",
        "marriage and civil partnership 111  \n",
        "pregnancy and maternity 103  \n",
        "race 106  \n",
        "religion or belief 95  \n",
        "sex 110  \n",
        "sexual orientation 113  \n",
        "\n",
        "Extra learning:  you can read [here](https://thispointer.com/python-how-to-pad-strings-with-zero-space-or-some-other-character/) how to justify the printed characteristic so that the output is organised into two columns as shown below:  \n",
        "![tabulated output](https://drive.google.com/uc?id=1CCXfX6K5ZeDefnq7vUsqxCDmqvcfY8Mz)\n",
        "\n",
        "\n",
        "\n"
      ]
    },
    {
      "cell_type": "code",
      "metadata": {
        "id": "GURT11albqUs",
        "outputId": "f9042cfc-b4fe-43ba-d71a-a1d008e46f22",
        "colab": {
          "base_uri": "https://localhost:8080/"
        }
      },
      "source": [
        "#from tabulate import tabulate\n",
        "def characteristic_counts(characteristics):\n",
        "  #print(len(characteristics))\n",
        "  \n",
        "  #print(\"Protected Characteristsics\", \"Frequency\")\n",
        "  counts = {item:characteristics.count(item) for item in characteristics}\n",
        "  \n",
        "  print(\"age: \",counts.get('age'))\n",
        "  print(\"disability: \",counts.get('disability'))\n",
        "  print(\"gender reassignment: \",counts.get('gender reassignment'))\n",
        "  print(\"marriage and civil partnership: \",counts.get('marriage and civil partnership'))\n",
        "  print(\"pregnancy and maternity: \",counts.get('pregnancy and maternity'))\n",
        "  print(\"race: \",counts.get('race'))\n",
        "  print(\"religion or belief: \",counts.get('religion or belief'))\n",
        "  print(\"sex: \",counts.get('sex'))\n",
        "  print(\"sexual orientation: \", counts.get('sexual orientation'))\n",
        " \n",
        "  #return characteristics\n",
        "characteristic_counts(characteristics)\n"
      ],
      "execution_count": 13,
      "outputs": [
        {
          "output_type": "stream",
          "name": "stdout",
          "text": [
            "age:  214\n",
            "disability:  217\n",
            "gender reassignment:  218\n",
            "marriage and civil partnership:  228\n",
            "pregnancy and maternity:  211\n",
            "race:  220\n",
            "religion or belief:  218\n",
            "sex:  217\n",
            "sexual orientation:  193\n"
          ]
        }
      ]
    },
    {
      "cell_type": "markdown",
      "metadata": {
        "id": "9Po7yQj-ds38"
      },
      "source": [
        "---\n",
        "### Exercise 10 - characteristics statistics\n",
        "\n",
        "Assuming that the `characteristics` list may have been taken from a study of cases that have been taken to court in relation to the Equality Act.  \n",
        "\n",
        "Write a function which will:\n",
        "\n",
        "*   find the most common characteristic resulting in court action, from this population\n",
        "*   print this in a message, e.g. The characteristic with the highest number of court cases is:  *characteristic*\n",
        "*   print the list of `protected_characteristics`, on one line if possible - see [here](https://www.geeksforgeeks.org/g-fact-25-print-single-multiple-variable-python/)\n",
        "*   ask the user to enter a characteristic that they would like to see statistics on and use a while loop to continue until the user has entered a valid characteristic\n",
        "*   print the characteristic, its frequency and the percentage that this frequency is of the whole population."
      ]
    },
    {
      "cell_type": "code",
      "metadata": {
        "id": "uk_I5z7UgbDs",
        "outputId": "52821cee-0d1a-495e-da9a-1de943731671",
        "colab": {
          "base_uri": "https://localhost:8080/"
        }
      },
      "source": [
        "def common_chars(characteristics):\n",
        "  #print(characteristics)\n",
        "  characteristic_counts(characteristics)\n",
        "  counts = {item:characteristics.count(item) for item in characteristics}\n",
        "  maximum_value=max(counts.values())\n",
        "  max_key=max(counts, key=counts.get)\n",
        "  print(\"The characteristic with the highest number of court cases is: \",max_key, \", with the number :\",maximum_value)\n",
        "\n",
        "\n",
        "\n",
        "  protected_characteristics = get_protected_characteristics()\n",
        "  print(protected_characteristics, end=\" \")\n",
        "\n",
        "  user_input=input(\"enter a charactersitics to see its characteristics\")\n",
        "  while counts != None:\n",
        "    user_input=input(\"enter a charactersitics to see its characteristics: \")\n",
        "    if user_input in counts.keys():\n",
        "      print(user_input, \"and its frequency is ,\", counts[user_input])\n",
        "      break\n",
        "    else:print(\"enter a valid characteristics\")\n",
        "\n",
        "  \n",
        "  #print(max(characteristic_counts(characteristics)))\n",
        "  \n",
        "  #print(d)\n",
        "common_chars(characteristics)  "
      ],
      "execution_count": null,
      "outputs": [
        {
          "output_type": "stream",
          "name": "stdout",
          "text": [
            "age:  214\n",
            "disability:  217\n",
            "gender reassignment:  218\n",
            "marriage and civil partnership:  228\n",
            "pregnancy and maternity:  211\n",
            "race:  220\n",
            "religion or belief:  218\n",
            "sex:  217\n",
            "sexual orientation:  193\n",
            "The characteristic with the highest number of court cases is:  marriage and civil partnership , with the number : 228\n",
            "('age', 'disability', 'gender reassignment', 'marriage and civil partnership', 'pregnancy and maternity', 'race', 'religion or belief', 'sex', 'sexual orientation') "
          ]
        }
      ]
    }
  ]
}