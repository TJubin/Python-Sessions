{
  "nbformat": 4,
  "nbformat_minor": 0,
  "metadata": {
    "colab": {
      "name": "SelectionChallenge.ipynb",
      "provenance": [],
      "collapsed_sections": [],
      "include_colab_link": true
    },
    "kernelspec": {
      "name": "python3",
      "display_name": "Python 3"
    }
  },
  "cells": [
    {
      "cell_type": "markdown",
      "metadata": {
        "id": "view-in-github",
        "colab_type": "text"
      },
      "source": [
        "<a href=\"https://colab.research.google.com/github/TJubin/Python-Sessions/blob/main/SelectionChallenge.ipynb\" target=\"_parent\"><img src=\"https://colab.research.google.com/assets/colab-badge.svg\" alt=\"Open In Colab\"/></a>"
      ]
    },
    {
      "cell_type": "markdown",
      "metadata": {
        "id": "-QxAKPD8DZfj"
      },
      "source": [
        "# Three selection challenges\n",
        "\n",
        "---\n"
      ]
    },
    {
      "cell_type": "markdown",
      "metadata": {
        "id": "2KYUALILDcM9"
      },
      "source": [
        "### Challenge 1 - password format  \n",
        "\n",
        "Write a function called **check_password_valid()** which will check the validity of a **password** input by a user.\n",
        "\n",
        "Rules for a valid password are:  \n",
        "\n",
        "*  At least 1 letter between [a-z] and 1 letter between [A-Z].\n",
        "*  At least 1 number between [0-9].\n",
        "*  At least 1 character from [$#@].\n",
        "*  Minimum length 6 characters.\n",
        "*  Maximum length 16 characters.  \n",
        "\n",
        "Let the user know if the `password` they have typed is valid and, if not, where was the first error.\n",
        "\n",
        "*Hint:  to test if a set of characters is present in a password String, you can use re.search('[character set]', `password`)*  \n",
        "\n",
        "Example:   \n",
        "*if re.search('[a-z]',`password`):*    \n",
        "if there is at least 1 character a-z in the password, re.search will not be None.\n",
        "\n",
        "**re** is a pre-written Python function for pattern searching in Strings.  It has been imported for you in the code cell below.  "
      ]
    },
    {
      "cell_type": "code",
      "metadata": {
        "id": "8wBK9IA4BO2e",
        "outputId": "42f95afe-eb1b-4c37-b6df-6a0ebda412d1",
        "colab": {
          "base_uri": "https://localhost:8080/"
        }
      },
      "source": [
        "import re\n",
        "def check_password_valid(password):\n",
        "    print(\"\"\"Must have \n",
        "    At least 1 letter between [a-z] and 1 letter between [A-Z].\n",
        "    At least 1 number between [0-9].\n",
        "    At least 1 character from [$#@].\n",
        "    Minimum length 6 characters.\n",
        "    Maximum length 16 characters.\"\"\")\n",
        "    SpecialChars = ['$', '@', '#']\n",
        "    val=True\n",
        "    try:\n",
        "      if len(password) < 6:\n",
        "        print('length should be at least 6')\n",
        "        val = False\n",
        "      if len(password) > 16:\n",
        "        print('length should be not be greater than 16')\n",
        "        val = False \n",
        "      if not any(char.isdigit() for char in password):\n",
        "        print('Password should have at least one numeral')\n",
        "        val = False\n",
        "          \n",
        "      if not any(char.isupper() for char in password):\n",
        "        print('Password should have at least one uppercase letter')\n",
        "        val = False\n",
        "          \n",
        "      if not any(char.islower() for char in password):\n",
        "        print('Password should have at least one lowercase letter')\n",
        "        val = False\n",
        "          \n",
        "      if not any(char in SpecialChars for char in password):\n",
        "        print('Password should have at least one of the symbols $@#')\n",
        "        val = False\n",
        "      if val:\n",
        "        return val\n",
        "    except:\n",
        "       print(\"An exception occurred\")\n",
        "def main(check_password_valid):\n",
        "    \n",
        "    \n",
        "    password = input(\"enter the password: \")\n",
        "      \n",
        "    if (check_password_valid):\n",
        "        print(\"Password is valid\")\n",
        "    else:\n",
        "        print(\"Invalid Password !!\")\n",
        "          \n",
        "# Driver Code        \n",
        "if __name__ == '__main__':\n",
        "     main(check_password_valid)\n",
        "    \n",
        "#check_password_valid()\n",
        "\n",
        "# add your check_PasswordValid() function and call below here\n",
        "\n",
        "\n"
      ],
      "execution_count": 20,
      "outputs": [
        {
          "output_type": "stream",
          "name": "stdout",
          "text": [
            "enter the password: Raizel@123\n",
            "Password is valid\n"
          ]
        }
      ]
    },
    {
      "cell_type": "markdown",
      "metadata": {
        "id": "f0R4GYTEFQS-"
      },
      "source": [
        "---\n",
        "### Challenge 2 - triangle shape  \n",
        "\n",
        "Write a function called **evaluate_triangle_shape()** which will check if a triangle is equilateral, isosceles or scalene, based on the three side lengths entered by a user (**x**, **y** and **z**.\n",
        "\n",
        "An equilateral triangle is a triangle in which all three sides are equal.\n",
        "A scalene triangle is a triangle that has three unequal sides.\n",
        "An isosceles triangle is a triangle with (at least) two equal sides.\n",
        "\n",
        "For example:  \n",
        "A triange with side lengths                                 \n",
        "x: 6                                                                    \n",
        "y: 8                                                                    \n",
        "z: 12                                                                   \n",
        "is a *Scalene triangle*\n",
        "\n",
        "A triangle with side lengths\n",
        "x:5  \n",
        "y:3   \n",
        "z:5  \n",
        "is an *Isosceles triangle*"
      ]
    },
    {
      "cell_type": "code",
      "metadata": {
        "id": "oBgl4ro1DVL0",
        "outputId": "a810e237-95fe-4ebe-dfe8-a9dec26f737a",
        "colab": {
          "base_uri": "https://localhost:8080/"
        }
      },
      "source": [
        "def evaluate_triangle_shape():\n",
        "  base=int(input(\"enter the base length: \"))\n",
        "  length=int(input(\"enter the length: \"))\n",
        "  height=int(input(\"enter the height: \"))\n",
        "  if base == length == height:\n",
        "    print(\"it is equilateral\")\n",
        "  elif base == length or length == height or height == base:\n",
        "\t  print(\"isosceles triangle\")\n",
        "  else:\n",
        "\t  print(\"Scalene triangle\") \n",
        "evaluate_triangle_shape()"
      ],
      "execution_count": 25,
      "outputs": [
        {
          "output_type": "stream",
          "name": "stdout",
          "text": [
            "enter the base length5\n",
            "enter the length7\n",
            "enter the height8\n",
            "Scalene triangle\n"
          ]
        }
      ]
    },
    {
      "cell_type": "markdown",
      "metadata": {
        "id": "hr2EotkqG33l"
      },
      "source": [
        "---\n",
        "### Challenge 3 - which season\n",
        "\n",
        "Write a function called **determine_season()** which will ask the user to enter two integers representing a **month** and **day** and prints the season for that month and day.\n",
        "\n",
        "Note:  for this exercise the season dates are:\n",
        "*  Winter December 21 to March 20    \n",
        "*  Spring March 21 to June 20  \n",
        "*  Summer June 21 to September 20  \n",
        "*  Autumn September 21 to December 20\n",
        "\n",
        "Test input:  \n",
        "Input the month (e.g. January, February etc.): 7                     \n",
        "Input the day: 31                                                       \n",
        "\n",
        "Expected output:  \n",
        "Season is summer \n",
        "\n",
        "*Note: this will require multiple and or or operators and you should use brackets to help Python know which operations to do first*  \n",
        "\n",
        "*For an extra challenge you can check that the day is valid for the month*"
      ]
    },
    {
      "cell_type": "code",
      "metadata": {
        "id": "cvbfz8nzG4IL",
        "outputId": "0b1ca67a-1c87-44ce-e83b-099d625baa7f",
        "colab": {
          "base_uri": "https://localhost:8080/"
        }
      },
      "source": [
        "def determine_season():\n",
        "  month= input(\"enter the month\")\n",
        "  day= int(input(\"enter the day\"))\n",
        "  season=''\n",
        "  if month in ('December','January', 'February', 'March'):\n",
        "\t  season = 'winter'\n",
        "  elif month in ('March','April', 'May', 'June'):\n",
        "\t  season = 'spring'\n",
        "  elif month in ('June','July', 'August', 'September'):\n",
        "\t  season = 'summer'\n",
        "  else:\n",
        "\t  season = 'autumn'\n",
        "\n",
        "  if (month == 'March') and (day > 21):\n",
        "\t  season = 'spring'\n",
        "  elif (month == 'June') and (day > 20):\n",
        "\t  season = 'summer'\n",
        "  elif (month == 'September') and (day > 21):\n",
        "\t  season = 'autumn'\n",
        "  elif (month == 'December') and (day > 20):\n",
        "\t  season = 'winter'\n",
        "  print(season) \n",
        "\n",
        "\n",
        "\n",
        "determine_season()"
      ],
      "execution_count": 12,
      "outputs": [
        {
          "output_type": "stream",
          "name": "stdout",
          "text": [
            "enter the month4\n",
            "enter the day6\n",
            "autumn\n"
          ]
        }
      ]
    }
  ]
}