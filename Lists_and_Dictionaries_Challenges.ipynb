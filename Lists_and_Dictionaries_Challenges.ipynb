{
  "nbformat": 4,
  "nbformat_minor": 0,
  "metadata": {
    "colab": {
      "name": "Lists and Dictionaries Challenges.ipynb",
      "provenance": [],
      "collapsed_sections": [],
      "include_colab_link": true
    },
    "kernelspec": {
      "name": "python3",
      "display_name": "Python 3"
    },
    "language_info": {
      "name": "python"
    }
  },
  "cells": [
    {
      "cell_type": "markdown",
      "metadata": {
        "id": "view-in-github",
        "colab_type": "text"
      },
      "source": [
        "<a href=\"https://colab.research.google.com/github/TJubin/Python-Sessions/blob/main/Lists_and_Dictionaries_Challenges.ipynb\" target=\"_parent\"><img src=\"https://colab.research.google.com/assets/colab-badge.svg\" alt=\"Open In Colab\"/></a>"
      ]
    },
    {
      "cell_type": "markdown",
      "metadata": {
        "id": "nEJLJX3J9B2k"
      },
      "source": [
        "# Some challenges to help you become more confident with using Lists, Tuples and Dictionaries\n",
        "\n",
        "---\n",
        "\n"
      ]
    },
    {
      "cell_type": "markdown",
      "metadata": {
        "id": "JvV6htgh9Nc1"
      },
      "source": [
        "### Exercise 1 - extending a list\n",
        "\n",
        "There are three ways to extend a list in Python:  \n",
        "*  use `list_name.append(item)`, `list_name.insert(item)`\n",
        "*  concatenate two lists using the + operator (e.g. new_list = list1 + list2)\n",
        "*  use `list1_name.extend(list2_name)`\n",
        "\n",
        "The last method allows us to add all the `list2` items onto `list1` and for the new, extended list to now be `list1`.  `list2` will always be added to the end of `list1`.  \n",
        "\n",
        "If the objective is to add list2 before list1 then use `list2.extend(list1)`\n",
        "\n",
        "Write a function which will:  \n",
        "*  create a list of **years** containing the years 1960, 1970, 1980, 1990, 2000  \n",
        "*  print the list of years  \n",
        "*  calculate how long ago each year was and print the year and how long ago it was (e.g. 1990 was 30 years ago)  *(Hint:  use the datetime library to get the current year)*   \n",
        "*  create a second list, **years2** containing the years 2010 and 2020, extend `years` to include these later years\n",
        "*  create a third list, **years3** containing the years 1930, 1940 and 1950 and extend the list to include all the years between 1930 and 2020\n",
        "*  print the final list\n",
        "\n",
        "Expected output:  \n",
        "[1960, 1970, 1980, 1990]  \n",
        "1960 was 61 years ago  \n",
        "1970 was 51 years ago  \n",
        "1980 was 41 years ago  \n",
        "1990 was 31 years ago  \n",
        "2000 was 21 years ago  \n",
        "[1930, 1940, 1950, 1960, 1970, 1980, 1990, 2000, 2010, 2020] "
      ]
    },
    {
      "cell_type": "code",
      "metadata": {
        "id": "QAyTVqoO8-08",
        "outputId": "29e19095-a905-4873-cdb4-d9df7b9c342c",
        "colab": {
          "base_uri": "https://localhost:8080/"
        }
      },
      "source": [
        "from datetime import datetime\n",
        "def extedn_list():\n",
        "  years=[1960, 1970, 1980, 1990, 2000]\n",
        "  print(years)\n",
        "  current_date=datetime.today()\n",
        "  year=current_date.year\n",
        "  print(year)\n",
        "  year_diff=[]\n",
        "  for i in years:\n",
        "    year_dif= year - i\n",
        "    print(\"ago\",year_dif)\n",
        "    year_diff.append(year_dif)\n",
        "  print(year_diff)\n",
        "  list2=[2010,2020]\n",
        "  print(years + list2)\n",
        "  list3=[1930,1940,1950]\n",
        "  list2.extend(list3)\n",
        "  print(list2)\n",
        "  years.extend(list2)\n",
        "  print(years)\n",
        "\n",
        "\n",
        "\n",
        "\n",
        "\n",
        "extedn_list()\n"
      ],
      "execution_count": 8,
      "outputs": [
        {
          "output_type": "stream",
          "name": "stdout",
          "text": [
            "[1960, 1970, 1980, 1990, 2000]\n",
            "2022\n",
            "ago 62\n",
            "ago 52\n",
            "ago 42\n",
            "ago 32\n",
            "ago 22\n",
            "[62, 52, 42, 32, 22]\n",
            "[1960, 1970, 1980, 1990, 2000, 2010, 2020]\n",
            "[2010, 2020, 1930, 1940, 1950]\n",
            "[1960, 1970, 1980, 1990, 2000, 2010, 2020, 1930, 1940, 1950]\n"
          ]
        }
      ]
    },
    {
      "cell_type": "markdown",
      "metadata": {
        "id": "S5iPicFzBzOW"
      },
      "source": [
        "---\n",
        "### Exercise 2 - creating a dictionary from a tuple and three lists\n",
        "\n",
        "Write a function which will create a list of dictionary items using the values in a tuple as the dictionary keys and the values in three corresponding lists as the dictionary values.\n",
        "\n",
        "*  loop through the status items in the tuple called task_status\n",
        "*  for each status, loop through the list with the same name (*Hint:  you can use eval(status) to access the list with the matching name  e.g. for task in eval(status)* )\n",
        "*  each time round this second loop, create a dictionary object with the  key:value pair {status : task}\n",
        "*  add each new dictionary to a list called **project_board** that was created as an empty list before the loops  \n",
        "*  print the project_board list\n",
        "\n",
        "Expected output:  \n",
        "\n",
        "[{'assigned': 'task1'}, {'assigned': 'task2'}, {'assigned': 'task3'}, {'inprogress': 'task4'}, {'inprogress': 'task5'}, {'inprogress': 'task6'}, {'completed': 'task7'}, {'completed': 'task8'}, {'completed': 'task9'}] \n",
        "\n"
      ]
    },
    {
      "cell_type": "code",
      "metadata": {
        "id": "KXYOSHY-C7m4",
        "outputId": "b658f063-b08f-4cff-819a-16ff7f7fbf77",
        "colab": {
          "base_uri": "https://localhost:8080/"
        }
      },
      "source": [
        "def create_project_board():\n",
        "  task_status = (\"assigned\", \"inprogress\", \"completed\")\n",
        "  assigned = ['task1','task2','task3']\n",
        "  inprogress = ['task4','task5','task6']\n",
        "  completed = ['task7','task8','task9']\n",
        "  text=[]\n",
        "  #  add your code below here\n",
        "  for status in task_status:\n",
        "    #print(\"status = \", status)\n",
        "    #getting content of variable status\n",
        "    for task in eval(status):\n",
        "      dict1={status, task}\n",
        "      #print(dict1)    \n",
        "      text.append(dict1)\n",
        "  print(text)\n",
        "\n",
        "create_project_board()\n"
      ],
      "execution_count": 33,
      "outputs": [
        {
          "output_type": "stream",
          "name": "stdout",
          "text": [
            "[{'assigned', 'task1'}, {'assigned', 'task2'}, {'assigned', 'task3'}, {'inprogress', 'task4'}, {'task5', 'inprogress'}, {'inprogress', 'task6'}, {'task7', 'completed'}, {'completed', 'task8'}, {'completed', 'task9'}]\n"
          ]
        }
      ]
    },
    {
      "cell_type": "code",
      "source": [],
      "metadata": {
        "id": "WcdKB3DFFVWx"
      },
      "execution_count": null,
      "outputs": []
    },
    {
      "cell_type": "markdown",
      "metadata": {
        "id": "M1BuTu9p19Ma"
      },
      "source": [
        "---\n",
        "### Exercise 3 - names and heights\n",
        "\n",
        "Write a function which will allow a user to enter the names and heights of a set of people and add each set of information as a record (dictionary) to a list. The function will stop collecting names and heights when the user enters \"STOP\" as the name.\n",
        "\n",
        "Then, the function will:  \n",
        "\n",
        "*   produce a list of names in order of the shortest person to the tallest\n",
        "*   calculate the name of the tallest person\n",
        "*   calculate the name of the shortest person\n",
        "*   calculate the average height\n",
        "*   calculate the name of the person who is closest to the average height\n",
        "\n",
        "\n",
        "\n",
        "\n"
      ]
    },
    {
      "cell_type": "code",
      "metadata": {
        "id": "reuyww3e18uv",
        "outputId": "a22faccd-0f5f-4460-f625-9815725a10b5",
        "colab": {
          "base_uri": "https://localhost:8080/",
          "height": 368
        }
      },
      "source": [
        "import operator\n",
        "import mean\n",
        "def name_height():\n",
        "  name_list=[]\n",
        "  #heights=[]\n",
        "  #dict1={}\n",
        "  record=[]\n",
        "  while True:\n",
        "    name=input(\"enter the name : \")\n",
        "    if name==\"stop\":\n",
        "      break\n",
        "    height=int(input(\"enter the height : \"))\n",
        "    person_record={\"name\": name, \"height\": height}\n",
        "    name_list.append(person_record)\n",
        "    print(name_list)\n",
        "    #operator sort the values on basis of height key values\n",
        "    name_list.sort(key=operator.itemgetter(\"height\"))\n",
        "    average=Average(name_list)\n",
        "    \n",
        "\n",
        "      \n",
        "    #print(result)\n",
        "\n",
        "    tallest=0\n",
        "    \n",
        "    for person_record in name_list:\n",
        "      if person_record[\"height\"]> tallest:\n",
        "        tallest= person_record[\"height\"]\n",
        "        tallest_name=person_record[\"name\"]\n",
        "    print(\"tallest one: \",tallest, tallest_name)\n",
        "\n",
        "    shortest=200\n",
        "    for person_record in name_list:\n",
        "      if person_record[\"height\"] < shortest:\n",
        "        shortest = person_record[\"height\"]\n",
        "        shortest_name=person_record[\"name\"]\n",
        "    print(\"shortest one: \",shortest, shortest_name)\n",
        "\n",
        "\"\"\"\n",
        "    #heights.append(height)     \n",
        "  for i in range(0, len(name_list)):\n",
        "    dict1={\"name\": name_list[i], \"height\": heights[i]}        \n",
        "    record.append(dict1)\n",
        "    print(record)\n",
        "  \n",
        "   # loop for finfing tallst \n",
        "  tallest=0\n",
        "  \n",
        "  for tall in dict1:\n",
        "    if dict1[height] > tallest:\n",
        "      tallest= dict1[\"height\"]\n",
        "      tallest_name=dict1[\"name\"]\n",
        "  print(tallest_name)\n",
        "\"\"\"  \n",
        "\n",
        "\n",
        "\n",
        "    #dict1={index,heights}  \n",
        "    \n",
        "  #return name_list, heights\n",
        "name_height()"
      ],
      "execution_count": 56,
      "outputs": [
        {
          "output_type": "stream",
          "name": "stdout",
          "text": [
            "enter the name : subin\n",
            "enter the height : 677\n",
            "[{'name': 'subin', 'height': 677}]\n"
          ]
        },
        {
          "output_type": "error",
          "ename": "AttributeError",
          "evalue": "ignored",
          "traceback": [
            "\u001b[0;31m---------------------------------------------------------------------------\u001b[0m",
            "\u001b[0;31mAttributeError\u001b[0m                            Traceback (most recent call last)",
            "\u001b[0;32m<ipython-input-56-ee3bdb7b9eb2>\u001b[0m in \u001b[0;36m<module>\u001b[0;34m\u001b[0m\n\u001b[1;32m     59\u001b[0m \u001b[0;34m\u001b[0m\u001b[0m\n\u001b[1;32m     60\u001b[0m   \u001b[0;31m#return name_list, heights\u001b[0m\u001b[0;34m\u001b[0m\u001b[0;34m\u001b[0m\u001b[0;34m\u001b[0m\u001b[0m\n\u001b[0;32m---> 61\u001b[0;31m \u001b[0mname_height\u001b[0m\u001b[0;34m(\u001b[0m\u001b[0;34m)\u001b[0m\u001b[0;34m\u001b[0m\u001b[0;34m\u001b[0m\u001b[0m\n\u001b[0m",
            "\u001b[0;32m<ipython-input-56-ee3bdb7b9eb2>\u001b[0m in \u001b[0;36mname_height\u001b[0;34m()\u001b[0m\n\u001b[1;32m     16\u001b[0m     \u001b[0mname_list\u001b[0m\u001b[0;34m.\u001b[0m\u001b[0msort\u001b[0m\u001b[0;34m(\u001b[0m\u001b[0mkey\u001b[0m\u001b[0;34m=\u001b[0m\u001b[0moperator\u001b[0m\u001b[0;34m.\u001b[0m\u001b[0mitemgetter\u001b[0m\u001b[0;34m(\u001b[0m\u001b[0;34m\"height\"\u001b[0m\u001b[0;34m)\u001b[0m\u001b[0;34m)\u001b[0m\u001b[0;34m\u001b[0m\u001b[0;34m\u001b[0m\u001b[0m\n\u001b[1;32m     17\u001b[0m     \u001b[0maverage\u001b[0m\u001b[0;34m=\u001b[0m\u001b[0;36m0\u001b[0m\u001b[0;34m\u001b[0m\u001b[0;34m\u001b[0m\u001b[0m\n\u001b[0;32m---> 18\u001b[0;31m     \u001b[0;32mfor\u001b[0m \u001b[0mi\u001b[0m \u001b[0;32min\u001b[0m \u001b[0mname_list\u001b[0m\u001b[0;34m.\u001b[0m\u001b[0mheight\u001b[0m\u001b[0;34m(\u001b[0m\u001b[0;34m)\u001b[0m\u001b[0;34m:\u001b[0m\u001b[0;34m\u001b[0m\u001b[0;34m\u001b[0m\u001b[0m\n\u001b[0m\u001b[1;32m     19\u001b[0m \u001b[0;34m\u001b[0m\u001b[0m\n\u001b[1;32m     20\u001b[0m       \u001b[0maverage\u001b[0m \u001b[0;34m+=\u001b[0m\u001b[0mi\u001b[0m\u001b[0;34m\u001b[0m\u001b[0;34m\u001b[0m\u001b[0m\n",
            "\u001b[0;31mAttributeError\u001b[0m: 'list' object has no attribute 'height'"
          ]
        }
      ]
    }
  ]
}